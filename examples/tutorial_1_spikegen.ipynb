{
  "cells": [
    {
      "cell_type": "markdown",
      "metadata": {
        "id": "RBNKFLJIobYt"
      },
      "source": [
        "[<img src='https://github.com/jeshraghian/snntorch/blob/master/docs/_static/img/snntorch_alpha_w.png?raw=true' width=\"400\">](https://github.com/jeshraghian/snntorch/)\n",
        "\n",
        "# Tutorial 1 - Spike Encoding\n",
        "## By Jason K. Eshraghian (www.ncg.ucsc.edu)\n",
        "\n",
        "\n",
        "<a href=\"https://colab.research.google.com/github/jeshraghian/snntorch/blob/master/examples/tutorial_1_spikegen.ipynb\">\n",
        "  <img src=\"https://colab.research.google.com/assets/colab-badge.svg\" alt=\"Open In Colab\"/>\n",
        "</a>\n",
        "\n",
        "[<img src='https://github.com/jeshraghian/snntorch/blob/master/docs/_static/img/GitHub-Mark-Light-120px-plus.png?raw=true' width=\"28\">](https://github.com/jeshraghian/snntorch/) [<img src='https://github.com/jeshraghian/snntorch/blob/master/docs/_static/img/GitHub_Logo_White.png?raw=true' width=\"80\">](https://github.com/jeshraghian/snntorch/)\n"
      ]
    },
    {
      "cell_type": "markdown",
      "metadata": {
        "id": "4blpfg4y44uO"
      },
      "source": [
        "The snnTorch tutorial series is based on the following paper. If you find these resources or code useful in your work, please consider citing the following source:\n",
        "\n",
        "> <cite> [Jason K. Eshraghian, Max Ward, Emre Neftci, Xinxin Wang, Gregor Lenz, Girish Dwivedi, Mohammed Bennamoun, Doo Seok Jeong, and Wei D. Lu. \"Training Spiking Neural Networks Using Lessons From Deep Learning\". Proceedings of the IEEE, 111(9) September 2023.](https://ieeexplore.ieee.org/abstract/document/10242251) </cite>"
      ]
    },
    {
      "cell_type": "markdown",
      "metadata": {
        "id": "lnF_PEo5obYv",
        "pycharm": {
          "name": "#%% md\n"
        }
      },
      "source": [
        "In this tutorial, you will learn how to use snnTorch to:\n",
        "* convert datasets into spiking datasets,\n",
        "* how to visualise them,\n",
        "* and how to generate random spike trains."
      ]
    },
    {
      "cell_type": "markdown",
      "metadata": {
        "id": "d7qhH_lt8_mn"
      },
      "source": [
        "# Introduction\n",
        "Light is what we see when the retina converts photons into spikes. Odors are what we smell when volatilised molecules are converted into spikes. Touch is what we feel when nerve endings turn tactile pressure into spikes. The brain trades in the global currency of the *spike*.\n",
        "\n",
        "If our end goal is to build a spiking neural network (SNN), it makes sense to use spikes at the input too. Although it is quite common to use non-spiking inputs (as will be seen in Tutorial 3), part of the appeal of encoding data come from the *three S's*: spikes, sparsity, and static suppression.\n",
        "\n",
        "\n",
        "\n",
        "1.   **Spikes**: (a-b) Biological neurons process and communicate via spikes, which are electrical impulses of approximately 100 mV in amplitude. (c) Many computational models of neurons simplify this voltage burst to a discrete, single-bit event: a '1' or a '0'. This is far simpler to represent in hardware than a high precision value.\n",
        "\n",
        "2.   **Sparsity**: (c) Neurons spend most of their time at rest, silencing most activations to *zero* at any given time. Not only are sparse vectors/tensors (with loads of zeros) cheap to store, but say we need to multiply sparse activations with synaptic weights. If most values are multiplied by '0', then we don't need to read many of the network parameters from memory. This means neuromorphic hardware can be extremely efficient.\n",
        "\n",
        "3.   **Static-Suppression (a.k.a, event-driven processing**: (d-e) The sensory periphery only processes information when there is new information to process. Each pixel in (e) responds to *changes* in illuminance, so most of the image is blocked out. Conventional signal processing requires all channels/pixels to adhere to a global sampling/shutter rate, which slows down how frequently sensing can take place. Event-driven processing now only contributes to sparsity and power-efficiency by blocking unchanging input, but it often allows for much faster processing speeds.\n",
        "\n",
        "\n",
        "<center>\n",
        "<img src='https://github.com/jeshraghian/snntorch/blob/master/docs/_static/img/examples/tutorial1/3s.png?raw=true' width=\"600\">\n",
        "</center>"
      ]
    },
    {
      "cell_type": "markdown",
      "metadata": {
        "id": "lGNOnFM4DzHY"
      },
      "source": [
        "In this tutorial, we will assume we have some non-spiking input data (i.e., the MNIST dataset) and that we want to encode it into spikes using a few different techniques. So let's get started!"
      ]
    },
    {
      "cell_type": "markdown",
      "metadata": {
        "id": "GAbXmmVN50Pl"
      },
      "source": [
        "Install the latest PyPi distribution of snnTorch:"
      ]
    },
    {
      "cell_type": "code",
      "execution_count": 1,
      "metadata": {
        "id": "jxLoYgkhobYw",
        "pycharm": {
          "name": "#%%\n"
        },
        "colab": {
          "base_uri": "https://localhost:8080/"
        },
        "outputId": "411d4504-cdb9-4045-ef24-07e399579440"
      },
      "outputs": [
        {
          "output_type": "stream",
          "name": "stdout",
          "text": [
            "Collecting snntorch\n",
            "  Downloading snntorch-0.9.4-py2.py3-none-any.whl.metadata (15 kB)\n",
            "Downloading snntorch-0.9.4-py2.py3-none-any.whl (125 kB)\n",
            "\u001b[?25l   \u001b[90m━━━━━━━━━━━━━━━━━━━━━━━━━━━━━━━━━━━━━━━━\u001b[0m \u001b[32m0.0/125.6 kB\u001b[0m \u001b[31m?\u001b[0m eta \u001b[36m-:--:--\u001b[0m\r\u001b[2K   \u001b[90m━━━━━━━━━━━━━━━━━━━━━━━━━━━━━━━━━━━━━━━━\u001b[0m \u001b[32m125.6/125.6 kB\u001b[0m \u001b[31m4.4 MB/s\u001b[0m eta \u001b[36m0:00:00\u001b[0m\n",
            "\u001b[?25hInstalling collected packages: snntorch\n",
            "Successfully installed snntorch-0.9.4\n"
          ]
        }
      ],
      "source": [
        "!pip install snntorch"
      ]
    },
    {
      "cell_type": "markdown",
      "metadata": {
        "id": "k6E7VH5kbTmA"
      },
      "source": [
        "## 1. Setting up the MNIST Dataset"
      ]
    },
    {
      "cell_type": "markdown",
      "metadata": {
        "id": "Suffg8_ZobYw",
        "pycharm": {
          "name": "#%% md\n"
        }
      },
      "source": [
        "### 1.1. Import packages and setup environment"
      ]
    },
    {
      "cell_type": "code",
      "execution_count": 4,
      "metadata": {
        "id": "cR9okh0jobYx",
        "pycharm": {
          "name": "#%%\n"
        }
      },
      "outputs": [],
      "source": [
        "import snntorch as snn\n",
        "import torch"
      ]
    },
    {
      "cell_type": "code",
      "execution_count": 5,
      "metadata": {
        "id": "e4LPD0WCobYx",
        "pycharm": {
          "name": "#%%\n"
        }
      },
      "outputs": [],
      "source": [
        "# Training Parameters\n",
        "batch_size=128\n",
        "data_path='/tmp/data/mnist'\n",
        "num_classes = 10  # MNIST has 10 output classes\n",
        "\n",
        "# Torch Variables\n",
        "dtype = torch.float"
      ]
    },
    {
      "cell_type": "markdown",
      "metadata": {
        "id": "x5X2a5a9obYy"
      },
      "source": [
        "### 1.2 Download Dataset"
      ]
    },
    {
      "cell_type": "code",
      "execution_count": 6,
      "metadata": {
        "id": "OlbY8Rm9obYy",
        "pycharm": {
          "name": "#%%\n"
        }
      },
      "outputs": [],
      "source": [
        "from torchvision import datasets, transforms\n",
        "\n",
        "# Define a transform\n",
        "transform = transforms.Compose([\n",
        "            transforms.Resize((28,28)),\n",
        "            transforms.Grayscale(),\n",
        "            transforms.ToTensor(),\n",
        "            transforms.Normalize((0,), (1,))])\n",
        "\n",
        "mnist_train = datasets.MNIST(data_path, train=True, download=True, transform=transform)"
      ]
    },
    {
      "cell_type": "markdown",
      "metadata": {
        "id": "6ZyzEp9YHgPb"
      },
      "source": [
        "If the above code block throws an error, e.g. the MNIST servers are down, then uncomment the following code instead."
      ]
    },
    {
      "cell_type": "code",
      "execution_count": null,
      "metadata": {
        "id": "ZpGLLVqeHgwy"
      },
      "outputs": [],
      "source": [
        "# # temporary dataloader if MNIST service is unavailable\n",
        "# !wget www.di.ens.fr/~lelarge/MNIST.tar.gz\n",
        "# !tar -zxvf MNIST.tar.gz\n",
        "\n",
        "# mnist_train = datasets.MNIST(root = './', train=True, download=True, transform=transform)"
      ]
    },
    {
      "cell_type": "markdown",
      "metadata": {
        "id": "T5wXl2bVobYz",
        "pycharm": {
          "name": "#%% md\n"
        }
      },
      "source": [
        "Until we actually start training a network, we won't need large datasets.\n",
        "`snntorch.utils` contains a few useful functions for modifying datasets. Apply `data_subset` to reduce the dataset by the factor defined in `subset`. *E.g., for `subset=10`, a training set of 60,000 will be reduced to 6,000.*\n"
      ]
    },
    {
      "cell_type": "code",
      "execution_count": 7,
      "metadata": {
        "id": "5FPsPU46obYz",
        "pycharm": {
          "name": "#%%\n"
        },
        "colab": {
          "base_uri": "https://localhost:8080/"
        },
        "outputId": "eca30661-483a-419d-8812-0021700a9d25"
      },
      "outputs": [
        {
          "output_type": "stream",
          "name": "stdout",
          "text": [
            "The size of mnist_train is 6000\n"
          ]
        }
      ],
      "source": [
        "from snntorch import utils\n",
        "\n",
        "subset = 10\n",
        "mnist_train = utils.data_subset(mnist_train, subset)\n",
        "print(f\"The size of mnist_train is {len(mnist_train)}\")"
      ]
    },
    {
      "cell_type": "markdown",
      "metadata": {
        "id": "9CedMagsobY0",
        "pycharm": {
          "name": "#%% md\n"
        }
      },
      "source": [
        "### 1.3 Create DataLoaders\n",
        "The Dataset objects created above load data into memory, and the DataLoader will serve it up in batches. DataLoaders in PyTorch are a handy interface for passing data into a network. They return an iterator divided up into mini-batches of size ``batch_size``."
      ]
    },
    {
      "cell_type": "code",
      "execution_count": 8,
      "metadata": {
        "id": "TrJLlWj2obY0",
        "pycharm": {
          "name": "#%%\n"
        }
      },
      "outputs": [],
      "source": [
        "from torch.utils.data import DataLoader\n",
        "\n",
        "train_loader = DataLoader(mnist_train, batch_size=batch_size, shuffle=True)"
      ]
    },
    {
      "cell_type": "markdown",
      "metadata": {
        "id": "mwSdczxKobY0",
        "pycharm": {
          "name": "#%% md\n"
        }
      },
      "source": [
        "## 2. Spike Encoding\n",
        "\n",
        "Spiking Neural Networks (SNNs) are made to exploit time-varying data. And yet, MNIST is not a time-varying dataset.\n",
        "There are two options for using MNIST with an SNN:\n",
        "\n",
        "1. Repeatedly pass the same training sample $\\mathbf{X}\\in\\mathbb{R}^{m\\times n}$ to the network at each time step. This is like converting MNIST into a static, unchanging video. Each element of $\\mathbf{X}$ can take a high precision value normalized between 0 and 1: $X_{ij}\\in [0, 1]$.\n",
        "\n",
        "<center>\n",
        "<img src='https://github.com/jeshraghian/snntorch/blob/master/docs/_static/img/examples/tutorial1/1_2_1_static.png?raw=true' width=\"700\">\n",
        "</center>\n",
        "\n",
        "2. Convert the input into a spike train of sequence length `num_steps`, where each feature/pixel takes on a discrete value $X_{i,j} \\in \\{0, 1\\}$.\n",
        "In this case, MNIST is converted into a time-varying sequence of spikes that features a relation to the original image.\n",
        "\n",
        "<center>\n",
        "<img src='https://github.com/jeshraghian/snntorch/blob/master/docs/_static/img/examples/tutorial1/1_2_2_spikeinput.png?raw=true' width=\"700\">\n",
        "</center>\n",
        "\n",
        "The first method is quite straightforward, and does not fully exploit the temporal dynamics of SNNs. So let’s consider data-to-spike conversion (encoding) from (2) in more detail.\n",
        "\n",
        "The module `snntorch.spikegen` (i.e., spike generation) contains a series of functions that simplify the conversion of data into spikes. There are currently three options available for spike encoding in `snntorch`:\n",
        "\n",
        "1. Rate coding: [`spikegen.rate`](https://snntorch.readthedocs.io/en/latest/snntorch.spikegen.html#snntorch.spikegen.rate)\n",
        "2. Latency coding: [`spikegen.latency`](https://snntorch.readthedocs.io/en/latest/snntorch.spikegen.html#snntorch.spikegen.latency)\n",
        "3. Delta modulation: [`spikegen.delta`](https://snntorch.readthedocs.io/en/latest/snntorch.spikegen.html#snntorch.spikegen.delta)\n",
        "\n",
        "How do these differ?\n",
        "\n",
        "\n",
        "1.   *Rate coding* uses input features to determine spiking **frequency**\n",
        "2.   *Latency coding* uses input features to determine spike **timing**\n",
        "3.   *Delta modulation* uses the temporal **change** of input features to generate spikes\n"
      ]
    },
    {
      "cell_type": "markdown",
      "metadata": {
        "id": "3D5HSoY4bQDm"
      },
      "source": [
        "### 2.1 Rate coding of MNIST\n",
        "\n",
        "One example of converting input data into a rate code is as follows.\n",
        "Each normalised input feature $X_{ij}$ is used as the probability an event (spike) occurs at any given time step, returning a rate-coded value $R_{ij}$. This can be treated as a Bernoulli trial: $R_{ij}\\sim B(n,p)$, where the number of trials is $n=1$, and the probability of success (spiking) is $p=X_{ij}$. Explicitly, the probability a spike occurs is:\n",
        "\n",
        "$${\\rm P}(R_{ij}=1) = X_{ij} = 1 - {\\rm P}(R_{ij} = 0)$$\n",
        "\n",
        "Create a vector filled with the value '0.5' and encode it using the above technique:"
      ]
    },
    {
      "cell_type": "code",
      "execution_count": 11,
      "metadata": {
        "id": "DxorUvomL1ei",
        "colab": {
          "base_uri": "https://localhost:8080/"
        },
        "outputId": "807c3749-009e-4c4c-a589-d5d4dae7ae56"
      },
      "outputs": [
        {
          "output_type": "stream",
          "name": "stdout",
          "text": [
            "Converted vector: tensor([0., 1., 0., 0., 1., 0., 1., 1., 1., 0., 0., 1., 1., 0., 0., 0., 0., 1.,\n",
            "        1., 1., 0., 1., 0., 0., 0., 1., 1., 1., 0., 0., 0., 1., 1., 0., 0., 1.,\n",
            "        0., 0., 1., 0., 1., 0., 1., 0., 1., 0., 0., 1., 0., 1., 1., 1., 1., 0.,\n",
            "        1., 0., 1., 1., 0., 0., 0., 0., 1., 1., 1., 1., 1., 0., 1., 0., 0., 0.,\n",
            "        1., 1., 1., 0., 1., 1., 1., 1., 0., 0., 0., 0., 0., 1., 1., 1., 1., 0.,\n",
            "        1., 0., 1., 1., 0., 1., 1., 0., 0., 0.])\n",
            "The output is spiking 51.00% of the time.\n"
          ]
        }
      ],
      "source": [
        "# Temporal Dynamics\n",
        "num_steps = 100\n",
        "\n",
        "# create vector filled with 0.5\n",
        "raw_vector = torch.ones(num_steps)*0.5\n",
        "\n",
        "# pass each sample through a Bernoulli trial\n",
        "rate_coded_vector = torch.bernoulli(raw_vector)\n",
        "print(f\"Converted vector: {rate_coded_vector}\")\n",
        "\n",
        "print(f\"The output is spiking {rate_coded_vector.sum()*100/len(rate_coded_vector):.2f}% of the time.\")"
      ]
    },
    {
      "cell_type": "markdown",
      "metadata": {
        "id": "l0E8Z8mSNflV"
      },
      "source": [
        "Now try again, but increasing the length of `raw_vector`:"
      ]
    },
    {
      "cell_type": "code",
      "execution_count": 11,
      "metadata": {
        "id": "Y6uUgpktNjBg",
        "colab": {
          "base_uri": "https://localhost:8080/"
        },
        "outputId": "569ede3e-036a-41c6-a3ac-d5461fdb7c66"
      },
      "outputs": [
        {
          "output_type": "stream",
          "name": "stdout",
          "text": [
            "The output is spiking 50.19% of the time.\n"
          ]
        }
      ],
      "source": [
        "num_steps = 10000\n",
        "\n",
        "# create vector filled with 0.5\n",
        "raw_vector = torch.ones(num_steps)*0.5\n",
        "\n",
        "# pass each sample through a Bernoulli trial\n",
        "rate_coded_vector = torch.bernoulli(raw_vector)\n",
        "print(f\"The output is spiking {rate_coded_vector.sum()*100/len(rate_coded_vector):.2f}% of the time.\")"
      ]
    },
    {
      "cell_type": "markdown",
      "metadata": {
        "id": "zoLxfVoINzdH"
      },
      "source": [
        "As `num_steps`$\\rightarrow\\infty$, the proportion of spikes approaches the original raw value."
      ]
    },
    {
      "cell_type": "markdown",
      "metadata": {
        "id": "eYKsWmoGLz6S"
      },
      "source": [
        "For an MNIST image, this probability of spiking corresponds to the pixel value. A white pixel corresponds to a 100% probability of spiking, and a black pixel will never generate a spike. Take a look at the 'Rate Coding' column below for further intuition.\n",
        "\n",
        "\n",
        "<center>\n",
        "<img src='https://github.com/jeshraghian/snntorch/blob/master/docs/_static/img/examples/tutorial1/1_2_3_spikeconv.png?raw=true' width=\"1000\">\n",
        "</center>"
      ]
    },
    {
      "cell_type": "markdown",
      "metadata": {
        "id": "k8_Lzm6FOcm0"
      },
      "source": [
        "In a similar way, `spikegen.rate` can be used to generate a rate-coded sample of data. As each sample of MNIST is just an image, we can use `num_steps` to repeat it across time."
      ]
    },
    {
      "cell_type": "code",
      "execution_count": 12,
      "metadata": {
        "id": "nz70JGXqobY1",
        "pycharm": {
          "name": "#%%\n"
        }
      },
      "outputs": [],
      "source": [
        "from snntorch import spikegen\n",
        "\n",
        "# Iterate through minibatches\n",
        "data = iter(train_loader)\n",
        "data_it, targets_it = next(data)\n",
        "\n",
        "# Spiking Data\n",
        "spike_data = spikegen.rate(data_it, num_steps=num_steps)"
      ]
    },
    {
      "cell_type": "markdown",
      "metadata": {
        "id": "q0hATEwKobY1",
        "pycharm": {
          "name": "#%% md\n"
        }
      },
      "source": [
        "If the input falls outside of $[0,1]$, this no longer represents a probability. Such cases are automatically clipped to ensure the feature represents a probability.\n",
        "\n",
        "The structure of the input data is ``[num_steps x batch_size x input dimensions]``:"
      ]
    },
    {
      "cell_type": "code",
      "execution_count": 13,
      "metadata": {
        "id": "ebdP5kFKobY2",
        "pycharm": {
          "name": "#%%\n"
        },
        "colab": {
          "base_uri": "https://localhost:8080/"
        },
        "outputId": "e8eea73b-43c4-4612-a77d-0af69ae11017"
      },
      "outputs": [
        {
          "output_type": "stream",
          "name": "stdout",
          "text": [
            "torch.Size([100, 128, 1, 28, 28])\n"
          ]
        }
      ],
      "source": [
        "print(spike_data.size())"
      ]
    },
    {
      "cell_type": "markdown",
      "metadata": {
        "id": "Cnas5Q89l_10"
      },
      "source": [
        "### 2.2 Visualization"
      ]
    },
    {
      "cell_type": "markdown",
      "metadata": {
        "id": "oVFuIXxMobY2",
        "pycharm": {
          "name": "#%% md\n"
        }
      },
      "source": [
        "#### 2.2.1 Animation\n",
        "snnTorch contains a module [`snntorch.spikeplot`](https://snntorch.readthedocs.io/en/latest/snntorch.spikeplot.html) that simplifies the process of visualizing, plotting, and animating spiking neurons.\n"
      ]
    },
    {
      "cell_type": "code",
      "execution_count": 15,
      "metadata": {
        "id": "4TYFlc4_ZK-u"
      },
      "outputs": [],
      "source": [
        "import matplotlib.pyplot as plt\n",
        "import snntorch.spikeplot as splt\n",
        "from IPython.display import HTML"
      ]
    },
    {
      "cell_type": "markdown",
      "metadata": {
        "id": "fwWROIkdobY3",
        "pycharm": {
          "name": "#%% md\n"
        }
      },
      "source": [
        "To plot one sample of data, index into a single sample from the batch (B) dimension of `spike_data`, ``[T x B x 1 x 28 x 28]``:"
      ]
    },
    {
      "cell_type": "code",
      "execution_count": 16,
      "metadata": {
        "id": "ZZxTqqOlobY3",
        "pycharm": {
          "name": "#%%\n"
        },
        "colab": {
          "base_uri": "https://localhost:8080/"
        },
        "outputId": "b834736b-bbeb-429d-876d-e6dc45d079f9"
      },
      "outputs": [
        {
          "output_type": "stream",
          "name": "stdout",
          "text": [
            "torch.Size([100, 28, 28])\n"
          ]
        }
      ],
      "source": [
        "spike_data_sample = spike_data[:, 0, 0]\n",
        "print(spike_data_sample.size())"
      ]
    },
    {
      "cell_type": "markdown",
      "metadata": {
        "id": "lJJyPUiuQ61x"
      },
      "source": [
        "`spikeplot.animator` makes it super simple to animate 2-D data.<br>\n",
        "Note: if you are running the notebook locally you may need to install ffmpeg: e.g., `pip install ffmpeg` or if in a Conda environment, `conda install -c conda-forge ffmpeg`.<br>\n",
        "If ffmpeg is not found, please uncomment the line below and modify the path to your ffmpeg.exe."
      ]
    },
    {
      "cell_type": "code",
      "execution_count": 17,
      "metadata": {
        "id": "4QVyvj9PobY3",
        "pycharm": {
          "name": "#%%\n"
        },
        "colab": {
          "base_uri": "https://localhost:8080/",
          "height": 890
        },
        "outputId": "9d9dd35f-8e0c-4aab-a06a-39f5fa8aabc7"
      },
      "outputs": [
        {
          "output_type": "execute_result",
          "data": {
            "text/plain": [
              "<IPython.core.display.HTML object>"
            ],
            "text/html": [
              "<video width=\"640\" height=\"480\" controls autoplay loop>\n",
              "  <source type=\"video/mp4\" src=\"data:video/mp4;base64,AAAAIGZ0eXBNNFYgAAACAE00ViBpc29taXNvMmF2YzEAAAAIZnJlZQAAeP9tZGF0AAACrgYF//+q\n",
              "3EXpvebZSLeWLNgg2SPu73gyNjQgLSBjb3JlIDE2MyByMzA2MCA1ZGI2YWE2IC0gSC4yNjQvTVBF\n",
              "Ry00IEFWQyBjb2RlYyAtIENvcHlsZWZ0IDIwMDMtMjAyMSAtIGh0dHA6Ly93d3cudmlkZW9sYW4u\n",
              "b3JnL3gyNjQuaHRtbCAtIG9wdGlvbnM6IGNhYmFjPTEgcmVmPTMgZGVibG9jaz0xOjA6MCBhbmFs\n",
              "eXNlPTB4MzoweDExMyBtZT1oZXggc3VibWU9NyBwc3k9MSBwc3lfcmQ9MS4wMDowLjAwIG1peGVk\n",
              "X3JlZj0xIG1lX3JhbmdlPTE2IGNocm9tYV9tZT0xIHRyZWxsaXM9MSA4eDhkY3Q9MSBjcW09MCBk\n",
              "ZWFkem9uZT0yMSwxMSBmYXN0X3Bza2lwPTEgY2hyb21hX3FwX29mZnNldD0tMiB0aHJlYWRzPTMg\n",
              "bG9va2FoZWFkX3RocmVhZHM9MSBzbGljZWRfdGhyZWFkcz0wIG5yPTAgZGVjaW1hdGU9MSBpbnRl\n",
              "cmxhY2VkPTAgYmx1cmF5X2NvbXBhdD0wIGNvbnN0cmFpbmVkX2ludHJhPTAgYmZyYW1lcz0zIGJf\n",
              "cHlyYW1pZD0yIGJfYWRhcHQ9MSBiX2JpYXM9MCBkaXJlY3Q9MSB3ZWlnaHRiPTEgb3Blbl9nb3A9\n",
              "MCB3ZWlnaHRwPTIga2V5aW50PTI1MCBrZXlpbnRfbWluPTI1IHNjZW5lY3V0PTQwIGludHJhX3Jl\n",
              "ZnJlc2g9MCByY19sb29rYWhlYWQ9NDAgcmM9Y3JmIG1idHJlZT0xIGNyZj0yMy4wIHFjb21wPTAu\n",
              "NjAgcXBtaW49MCBxcG1heD02OSBxcHN0ZXA9NCBpcF9yYXRpbz0xLjQwIGFxPTE6MS4wMACAAAAI\n",
              "0mWIhAA7//73Tr8Cm0WXagOSVwr2yqQmWblSawHypgAAAwAAAwAAAwCQhHHua5XJPWaAAAAvYAkd\n",
              "R/ghH3kBNDCYZZFWrjpvUjoWFadFXimJb1UuS8/N/B3+j+Gt1R+BLVPDXd5gh7gTTcAN00v1OG4c\n",
              "6OfI63q6/hsFNXQrxWxBfqbVtRodtrIOAJ8Z9cc70ABG+46bFy2Qo8yTjkELxJqP9/JYxjU+B88F\n",
              "5xJeffoNDuHiHKpgjquRsigbQV6AEfzzNhobLuYatg+5+11d3Wm/Txxh3s7beWZhz14Ve9nyyqG7\n",
              "ed0aEWO4S/2ELBIWANMyyNOxdtB5Em8VAbt7E9LTvY6Aax52ql8clAnbux1Hkf1+eqEClLCbFAM2\n",
              "veLGeYZnAMb/lz/++NX6f2eiUN3j4lGk3FUyq3H7Rd5bKoGYGKBBUXgVZ5m8btAqFPIu9CI/e491\n",
              "MPiPQ2AqaVDPd4nT2tbJqaAepIQSDHI1jhXxae/pVDJNzA3ABrPtX3b+VDmFOGrqtn2xVXBsbzUR\n",
              "eO6KGKVVJswny100xXpXGo3cxU9JaEt9m6O/0VB31lWa5NiZ6mZHLljN+H0gTtRvB/AxH4PjVmhx\n",
              "VKp1j9uLYhwhy4Oh0Ih1vRNg6sxldYeOXZyHhZ8/DpBjY1lgzSdpWDWDLOLKmEmEE6GipzQ2NE6r\n",
              "X9y+MKY9Ahdt7rRDRndWNF5Zp1Mmj7RhHKM5XP2/53eT6oyOJsK6uzZP3rXAy8QSI47jfpM7IeOu\n",
              "3tdNKLPYS9tRTPyJJ+zawVFDhz0ydRTMvLa6l4pJQYnLXf5OoKI05tMIEuziNLE3iW/gjRW9wWL1\n",
              "x6MoPAnkayB8aTQ3BTOpF9zRx/Q9sbS1XrQNiqs/GanLbMc9h5uAFoE52rxscujWS8ZWevTyGzaz\n",
              "rDokEQ10CPIHoF3MsmED6VcUziLFpSy81BrgOq4RZoITdB9GlZwlOSAiddIyly3HZZKDSOpBK+oO\n",
              "cw+xw+956oxGJGhnyOhjcOckf5MsjOqd0uHWThBJz0W+cddoSmsKBZ9xPtlMQJTgmp78MuK2fnvP\n",
              "Js52MopMeOAvcYGoPSDektOthKEV/umoBHiGXPf6S6TiVWo2ZUfJHydpzobz/sBYby33Yncsunq7\n",
              "3n9q607HJnF/8X5xbhkKcMU5Abz6mZqXgeqn7zcBdWMO2nMf8F99jHWlF20pq2JQpQ9F/K1AFPge\n",
              "2A5IRp3R/7sSf3UvlwApmvEgcMDLSMZWy2BGI63K/VCnbYeT1yBgmCnI0TkH8XYCtZWNZCrUKP6z\n",
              "03e7NQ4/H3H30cUnfbHClZ/8k++xeRm02+FQpfBSwdNQpP3VXTIPFYythpQ4kCa3iWSZvjHBJbNo\n",
              "ZpxbJzu2cQv7IxYI2KY0jW61Qv3LzooPwvSUhD1nzsPpSytZd46TavQvH4rJoF8/grBA8l4Ey3rN\n",
              "ZkWpUwX061AlWUDZ65EnTNcc/q79X+/KdhQhrzZ1w5XX1u+2P3imExOraV8UfH/gvztNmQe4VIhr\n",
              "6SOBkeMfT4tAjyk6A9FUHqtKexYe43ah6QcKyqorno5BvdX8KCxd4ezCJshtJ8lF6vxXc7nHCTmi\n",
              "EIWXWRCaSBGLm16uaydCJCb6CD9K3qSJ5pRiPyDa0jKu43k340yNgnumEmv3mSk0c+BQYC4GVEfV\n",
              "S/htqxxIx1W2fPVInWobWmtqyZOyia3/TcV5j2G4Lk9rdeJGvgPItfpLGt9KWsIJby/Y1AVmfm2t\n",
              "5OAL87/V31nrptuE3fpM6BX8nJ8kBwnCzWl/I6FbEotNYPlyqtr3KRkqaLzrDSereom391mo/6Ic\n",
              "cj8705hf9hoLTaFOkIfANRlkpOrYg256burNU5+HujLvKf2rpqe1WYCwuyz/zkh4rUyJKbXVqFIu\n",
              "Yw8BAt2vb/8oDfyGT0aG4uDUccYPhfoFh/VqSICd/hy/u2PZLnuNk5r8/V+jrA5GO5CuDdO6wLkU\n",
              "9QmsTJu6zPlDM7gOBjUOvNni4A8PIkmk3hdLfrRCI9RZKXaiDE+BlxFvhirunKjSd4O56PdhxkT8\n",
              "DHLfHtyvDDFCtVgKgSCHZBiPczd0akE2BM+k6GHwxaZzOD1GVwTOVW/uG1JDADqLg9odC6XCK5DW\n",
              "v59jsehceIv/OBSiX65hRZp9q9VWRwOSBCHn5QAbdivGu02RND4A4T7lIyeHt7GweGZcKIBouhXL\n",
              "woso7J3mffbtyIeLn5cx6W4IbZSPtHSatwO7erxORw0NsRiDkJumaWGu/KRZ91Jf7SQeWSXQM/tV\n",
              "fzZGsexFcf9heJTgxBkX/+yr4t4Pkm6Nm3ZnWDiHTrXj2gAY0H9BN3aZhHKIDyY3DD/pS7YfT0xY\n",
              "qCEna4BZlDuzZmLxur05/7NIj0GcnxP3xGgxDkQ55rM+zpG5dHtz/Wdlb6l+9Kvr6IZ0bDU29rGs\n",
              "AQrPgDC1osWWdr/x6+SvUrXgAEN47tUiuJx2AfSzYPbPIni6Y985oY5NishMHrsWMgtc487wYj0A\n",
              "96jK3kX/zJZdHQLdoiT77GVl98Vt/gZwp+k3yxS+CMHWF0asBGegymnVQfhlrR7Bv0Uxh6CijJ2J\n",
              "JGxW9yIzeLdh0hENkW1APxzdWsnN3SIpchMk/gU/MZNjdqGtKEdJUFz0uySlHh0lyu4wAIEY/uA4\n",
              "yimjHCiOoy8HvPZEy+kBLbqsOgNjkNqmScdfnk6YDTs/4pzXTyUv4TBFnOTzpz5fObYnerOCHir4\n",
              "7Bqe7CK8w1u5wkONKh8VwVcZ3llNtdnT47zjxPxgz4swhjYTZZ1cAKfr2T45rws/JRZbwPf6dtMl\n",
              "eyJvKY0R1tdN1pAauVloJzPNBGcpfcbJlF7qxCmEpEnhkQ2JLXBPJz58VTFmoLA4iJ0C/NmuRo8G\n",
              "ti3Jz2O3E1qClSPwjaN40nmsTtQ7mnBCSMgmZr8junar2fVd/JLywjIiHs2GTRxfA3DAE9JOsTlx\n",
              "nzHxqITVDoEhqCl2/4E1a3Wl8e7cVikcoAAABH5Wl5iAAAoJAAADkkGaJGxDv/6plgABAfkqHf52\n",
              "65bzJbz5d+UG2YDWbCKzQEOXzGN30wz1GXNzma4Y1q3Ja5pwpZTRhBn4k+V5eJBUWfDo27tDuZ95\n",
              "b/IxYhwaYGB9ux79N4hMYWMGsTrWqMwP6UMbrKhSU3CekG9Xx6bgT4HZv7PsTvDH76t0YmNr4KOJ\n",
              "ZyMly4O/TiSaqvY3VS8CGriYFKYjAPKqor+dK5bqHeGdPWvQuz3sCKYCaPE5j9IGdNHDgTAE50Xu\n",
              "mcAoaG2RwfctnD7FQ5jUtX2xB+EcW6OMAPNtpvzAlQgkCuSQCv08Y231ssolda+eyNwdaZoapZdr\n",
              "FEuVyT8VemzC9E4VXkYHh9F4rt9mrhger9umHH2aPsvXEykYJN9H1G6i0I/6q9n2y56eM+tyo2/b\n",
              "lHCBCSDy6V89WLQAijTgfsk0pFvjRmMvTbUyhTUZyDCJjjyWKunTkVA6oYvYCa1ITtYMWSOQGgGG\n",
              "4ZpGgwHCHgjBYy+vu74umlHCtZ035YvN+uAwj4bZV6QxsePlXyhkly9u0++rUp1ks57goDGXKSdI\n",
              "q+HzSxNQ9ivJzXt134QhR+B9MLuMhJtmXaVKbW+uXh1FIiHTq6635CG6ZoqgCsLsxsk1wo2XLi3S\n",
              "f5B+UZlV7C1/NeEAo8OQawiq2Up445wfZuAXs79Hkf8UbcUhgZX/U2+/sAgWJLVMverc8jgjYaYq\n",
              "P96YuJyohs/BVGq8iWmkYMrpmRX54OxeUjJgQlnl5BbGHxb+wkeoAOwk/tF/be6ZXygWCrU0hL8j\n",
              "rM7sUqBAY1kGPmZDBekfE5ZNBqFeODmhjQ79H209eHCibkYN9djl1ft4kAX2PWJPNNNVv5/W6Eub\n",
              "+ZqetaGdhCnIQf48T5CImJJ9PrGlhjYfR9mmwrn3IWhY1lcBURdkdIwJI2PkZajtzg96ukpq3yFI\n",
              "f3ggOj/dwMpXoJFt5TM3PE1O4sKJdpUz3QQWVUm6ojw813JRG08qE9LtFEQgjqH+ATi6kcINbfs1\n",
              "1fXaRouvClAXNt5OFkMMKyWv19Tycjj1PcxFPrWHuZ4xOv01STS1Lisz2M6kIGj3/xJurB4jrZTd\n",
              "Lg7/VkIZ2GUEhf8i2zyf/3YhafbP9mT6Si3z2dnMqspY9jy53CgYlGwSbrfkvQXsAWaTXcDX7aju\n",
              "sxEFZpc2XyuZZGBhH7anxDPxvK3g1ArP6vGeEGQB01DRLsOdU5edGAl4AAABs0GeQniF/wABOvF+\n",
              "Dw7gAAtl/T/DjGtx+RxeL9BJJHEovsXUwpRLQxHvegH4mxMo9B12LyeBVY5MAS/u06mxn17dUQZh\n",
              "gS1rylLHWZ+iuZ+/Xdd/WriM8giz08mXHVIobjmmmpimMJRddPy/6LJkm1RIy+lFnH5gyM1FJxY6\n",
              "pWMSHMaA/NLYJHZcefHpyEY9smqkt4Nmy6ZHryueAy0TjudrEqdDHK6Y0YRj7V/m/2tfIh8ocBUD\n",
              "DZvx/2pmKD46u1K66jeCCWXv/E9RT/esttPcY4g60OCUn9QRjgm1yCQuO07NpG3qBqBFFoyfb21O\n",
              "qxhvDSO1YfvXCiB6hl1JXG5G2zSw4lHO3D49TgyvXInkPgBkXtxeFuEDQEXbNIH5QmxZCSYHkHoR\n",
              "sIEReSl8gzoiE0LVzzLiuiMPhz+sfMhvZCFfC4HiyggxuSca+EKDUOLVw9qyz/Iny2hFZXUJvkYV\n",
              "XjJTtcGC55m2Tn0VdoopXb4UAUbM/AE5ybiBG8QB1Q6Np6xmzfRQerKQ37RXhckt/bzMvnJhlCDC\n",
              "4SbL3B7miGENpcK4BNr9Z3NnLnOcPF46YQAAASIBnmF0Qr8AAa/8U0sVcsMeGgBBmsHcAdSPjeCw\n",
              "Z/82/CvFdh0wM6eTKfdQJ+9IqUv1QFTWmlawlCxlDxvlsUsUB3eipbqPyOOS5ydhHZBEhwmPk1F6\n",
              "eiotnHSXGaRN+6DMCB6OopFi8Rcp/mXvuAdtvXAU1jkDkhZr8u11wgpNkz+I96RtdNzPHgO1Nr+K\n",
              "Vu3jArY4DBMstOTcExOqBMKcc/YjPQq6ObaUudlKLXst7XmL+8qEzv5/8tp0KE2pyQvMZyPi8FHV\n",
              "Y6/j9nO5tRSqZo3F1j+NDLAXGjWrr78uKgRkGuQ7dKP4yezlTbW7pX/vPVXp/gyR45pakik7kAQx\n",
              "y4MFzjTbvUc/DbBaNRowAx7ho1HDv0pI6ASFat4ddAwrYAAAAO4BnmNqQr8AAbAgPohdjtHWADO0\n",
              "sy3/V8EtRxZUyjOhfadPDyLTCIAcaAvz3Ev52R2GZ/VjsQv+UDfEOPNYtTReMO8Hdll/U1tLODGi\n",
              "R4+/2IQLn//JxSe+oNLF2C2nAvQFZEReqxM6tSl8DyJsgbmYAVtR74877tKbELgQvTSSMitkqmZ/\n",
              "pv7YnXhTvyZNTmrHPuaAsaJaGkUTvZvYEiRrosaPvpfeLxwphtm8/lVVQkADwqEvw0ISOKqH/X/B\n",
              "A+qqyZOlGgCJ0TzYHUg63avSpf8PfB3AyBOt3lqG5fG78tGVwczbG1NPbhZoUArZAAABZEGaaEmo\n",
              "QWiZTAh3//6plgAA+ffGEP1HePQk1VgqQSRb7Com6ZGdDw05q9ZjlgF5bdgh4KZVJE23nxHVs4QW\n",
              "oIitlouf7MOFXVRmI610yX/9nlwFU6ULFb+cKf55D59ff0mHtwDG5Hec00Ur5F5Ci/lgC/KNoVqN\n",
              "LzcG+jtnMPZLwgAQGAyGesGycLNVA3n8ZC11h8vtnrotTX0b3IU3tpQCF8YSAK6r7e1IWslTZVNG\n",
              "2BZRwmYDInzvdjs/2CmrVho8KOwSM7Ia0s2S0R2nfm+m2PHiAUpk23zwUiFk2xstohJ9NkQeubZ9\n",
              "Bzy18ONsMQLr1eSgrN7FLnqfMZHdlmkXjYECmQEwFPxH8+4N1EEuiPZDfM7ygTT+zhftlV0xQ5Ak\n",
              "RkfGOiTw4EpdXlCe4mmNi814u47At7fXu62s8BEMF/sxO2t5/NTpdiNxK4V6un/xU3Xpw/Wyuk7V\n",
              "twMQb5X0rBLxAAABA0GehkURLC//AAE+yCi/y+GlIwyqxQoklLQgUGu4YfZGt6QLaHAJNDolq/aE\n",
              "6EIqZC5gJa2hjiJUfVMYcs5YcsfhJjf/jj+SmigeL9F+QhEoCFnJ1pHEqQm/FoymnS8szmyf0/Zi\n",
              "70wAdlsvvj77aTseYP7WNFLYTODgT7hnNPxdSOAY3/gJlR+3WGG8B61+ELA56c30Kv7U18L4b5OA\n",
              "M1sNnhloBqZWGS63M8oZTOAJ7Wf6/TJINlA5y9kwHXLysDh7LcdYER5cVeLx5BP2ihDG6tpk+/9o\n",
              "2G/Bvqp4J1HmcBf/vgG7FlFA5Hl8fAR7ODuzWyeAkcO0zbJqx/eEn8qABd0AAAE6AZ6ldEK/AAGv\n",
              "/jEDEANzODEsz1Uy8y8YOO2EQ79MJFATSnO37Lils72eWX5RStiNWdFlQfTI8l5pkr26qMkgP+5Q\n",
              "eH6Qp0kmvltg5Qi98SbKynkFhQIhquvfyjuWbt3oH7/zptKnHHXU7Zcw5m3i7yh9+MG/3zyzkPUp\n",
              "kkWtougtuOYuD6d15rhN6fDtRvsMUXjo9fRnqfLJIV70y9oMzCL586u1WKcILAqA3CdAY8HNosfR\n",
              "tqNOWQsrCDUjGmMFuOul2LbHUXSj17kNzELQoQZyUNgMONY5UNlWFIxM4Fprsr0N0kQ9ri0JW6Nc\n",
              "BzLq3pSm8/P/tfzzH3pHBZSaDHq4q7B/cEunAHGCqM5DQ0/NnHQA8Ti35awraTiCCBPS99T61d4/\n",
              "IoIk5o7soMgG5QRJmzTELqDngWcAAAFrAZ6nakK/AAGwH++6Mnq51/9ssH+nevDQFX9RxWCNCj7i\n",
              "X+BwMvXD0cDgPbzKNLBVMtCHkTLN84RLoUmQxo9vC7uFcQ5/wo5aMVQ9KmFIGYe3ACtWmgUJpu8n\n",
              "eITqJvc8ocgXDyRZQts92gvKrOVNRKok9tZuljGANeopPnep+61PU2lR1hehCmtJ9n7uHAgdkwyk\n",
              "+dMIyZgwNLXqn0fKf9ozgMwto4dl6Bfyb0yeNIE2S1L53wOVHG7HgYA5gHJrccTfF1pXveWN5oes\n",
              "OKdUeCw8zJM+cl0WOrhVdF8xz2uDAter+BI+erO2sIdVuxhgW9cEcYabWTT1tev+8L7igh21baT1\n",
              "eELfNzP+gY0mrkBkuhr1j3Grm8F/+rJwjRzJU47QXDhyv2pcxtkPI373OJzmtM6vhAkBcyxh+r/7\n",
              "5i8OGoy7ngHFUovLns34E+b6yvAEJSahOM6t1ngizL2QFqRv9XU+AW3O+B8wAAABb0GarEmoQWyZ\n",
              "TAh3//6plgABAFX6eACXpiv8mH4XMRj3jslGVeb0P5zyke99wTtT5gTW30gtrJ3bvzYzOlfyviCV\n",
              "gxWdqNpmRNGW15ycQ7+cSos65JoBqy0hOvSimuZigrU9vF3fR1atIPb/eEs/VjWaq8cwmQhBWJb2\n",
              "g6utz3D6WrGFlzSOQTA9ITEUkso68M67ZPSzZ8mQusotP99DxZOTEdvZlA5VC6ZVpXUTwSiPr6by\n",
              "kK5Hx6ZmE88LsOCJfUPpDD4ktoOyRSVa0dtwj4eVJhanDzdoe2Af+U4mp0R4/1EW4lnjVXRe0xkb\n",
              "dB9TIJU8SWt1IbcAwhUZYjtYCRnWFbqIg4YWbLzcAKSLMmhWew/sTZhM4WyWbc8+8zow/DrP9ZIs\n",
              "Ton7zTtYWzfiocbtHDFw1n1HewxPqysEZXmrL41zNXBTro6nm0Dk/MXYECTxRtGd3J9XZgHYmVmN\n",
              "IP/kPWCwJObrx3UmQH1cEUwAAAD/QZ7KRRUsL/8AAT7Ijw5+bhqL2Ej/vDNTelAitaiaqQkEAefM\n",
              "xNAptTuCftqI+U2c3vF14P0NHSovUfDPsXiAwXSU5FsZ5OwFqNQdhOvZBo+cK9992B45hx4/V69y\n",
              "dZBFXDvpT3EPBJv9FoY6aghtdXmHh8NqIqDU0v+xkxsC2TBzOXPoC6OaAE3NgH5CwyeW6bvewUa8\n",
              "hPVZ7eSm40uhf0phQgMJS+QRjWP0aqoEIzC12xLx8Zg6e9mgetbqoa4lmu4TayY11TBIku6FO5ff\n",
              "Il1sF3hilSRndfPGAoc6nBS/EqtpJ6OBLwDx8052jbR20JeBUMenzpZ7c7QxgBLxAAAAmwGe6XRC\n",
              "vwABr/3Nhe3AA0fJq/mcjmzm76ct2UCGNe+TdXmzPf1lYx96EUzaB9SX8s9T9bAuPtfngyLOoeLj\n",
              "Rw49oRRdNkD0pRADY8JY/MBRqwOVh4SJ7BMaNr+MRS8nDxFNuQf6/QDDdkSV1bHzNuxY+sYlsJur\n",
              "gyrHXVs0u1IAYSfkNtT1LOKgj/6XNKvjWZxYDb44v4ZfAAVsAAAA9AGe62pCvwABsHOlbxvNzMAC\n",
              "vP/V/NF4QtWSmEdM0W7x4175N1dtbQGO6L+C7EUPw89TN3lJloUmFHe/Y8WPe1XW6SntCliVcxPd\n",
              "dVP+plvvG7L2bVVzvlPCwNeF/xwmL4udhBOP/eCeVBl1Es7Mup0F/ZLQ2/ruIc3RTTnlbzbv7yuN\n",
              "+vHC1YYl8ZA2ThiNTlhqM95YQq0SwrLePnlpIXYTHm84RUsfjeMcllugk9C6ZM/Ft2pP10AsvDon\n",
              "uSap2IX/jkEwkgY97WZxDrvv3rEUTZcGaDipwFNfU7UxcdmAseRkY0Kt4RSBzkRQudoCwnrAAdMA\n",
              "AAHZQZruSahBbJlMFEw7//6plgABCFS8lVOi4AW6YsAl+oX89pE0dxBFGVemPvlTDG5QdN1gCbWM\n",
              "FH9xbcM1OAvoSH7daLmCFnP3doz+0iIQppjxWMzkVLindu/x3AtddnHmuFi+jh85GI41twAgPT2N\n",
              "DmqFpQfVTEFDK27HI/3jg1bXEMSpL1WOQKKHU33b/FMvrhpv/9GjzrIP/0vwJHGvrFls1Z/G6PeN\n",
              "H5A+WqpCaUZUNQz9htcbzC5Wf5r/5jIPB6M8wZbuBBTXO1nyGTGUrf7LI+ydJovuxY8FZJX9pjqj\n",
              "sUAAsbmIFYAYRDitAfraHS6qxOibzhWfZswpb3uDfBOxmDEnJidF2EUND2lRUCfbs3EPi6ne1RU5\n",
              "eG26lVzfeaRa2cIzL9t19jKFERCzvSRCdZfG8SD7vf+q2P9/GcBqdEc0/FXJNq68ta4+v35PuHDD\n",
              "9G65BsKOF3hJmCtyuEU1QeJ2CixV842IdxsNxuy/ZQ4Ut0vBTiXKzG4em+UB6q+eHYpajqrbNs4t\n",
              "7hWYf/ZxffGVRRje43fnx1UX0LtJk3dnwoHjBRMUioMB2yq1wP9TpzDhfMGmefusLDDUTOJMpQHN\n",
              "8BLT36PIEknYP0SRhQxwYQZVBDEAAADKAZ8NakK/AAGwcoUvI+67G9GDfsycvSPbWPCiJFY7pEUh\n",
              "hbcSpb5ebSLkctD+OAzzm448DUWZ5XhvxpQoBnENatgY/aYyVVSXH8Xgo1h8TkMaPeNzfTF1cjCL\n",
              "yjdPwfAQZOeb6AA4fm4bYnQM8i5U6BWAXs65e4IVB+4nn384qRclbAjPyjrBqf1YqOjsW2ain1Mg\n",
              "0Zl0ATk6ymFZsAYdlckJdcrRrmdgH39fUoZkcaiah2kt+aaxB8zSN1M1478ELzGHx+ypYXC7gQAA\n",
              "APRBmxJJ4QpSZTAh3/6plgABCereRR/qmGzAAEAfpiL/j9fyGH1cPthImiIbkZn4MfkheNHuKsFI\n",
              "9m990romXA0OvuJsyqnwcevtjl/7ONDM+Jb1SczIHqTzYqSCb2xw5eLrEiU2fovn7Hm30eGlDfHH\n",
              "bQ5BYqFLnEqNECd8XPVLWhD/W0WJYAK/hTYnl4emtYhAxO3+J4QdHOmD7wBToN4kGG/sNFfgS2CQ\n",
              "KEPYPpj4HSD2cDQ75Vyv9dLUFbSlizSZwC08sfzmvixfk/mNVegY9qLRqIkCxqwzBYisDMrYweyS\n",
              "W10q3Vg/LpCRtkdw1J6CWnqJAAAAkEGfMEU0TC//AAE+ngxtrNGxtipco/SXBi1He1I7qLM8OFaK\n",
              "vE9YmsXfPghaZ8HSsIHdxRpkg2EyAy52zl8esiQfHJ89cNVrPvyGxofjwM6YASxAt8wHyWLH/Q7f\n",
              "pk6li/HQg6F189Pf9Q/egEC/Q3ZxOX/0yMvsaNXMJ1aQB6B2mNJkWaRLIx9dXtlLQKVBZQAAAPYB\n",
              "n090Qr8AAaaOAFPRJc0FNCe9dumnVcwEhooAEsA/7SGftsCz18pN/I8gg896/GRAtlskg4qmwrXD\n",
              "rh//+DRUx+kXKVp2/KkpmkUDIt9DpSb5Hgbu8gwL0CUE9siOw4fQWZ+oyMVzzx3AUKVwxfZKU4zV\n",
              "m1o7MrkhzBXs2NriOBSPUttbcv+3CUtm7+KWxdcBmeyOrRcHYhS5WY1MXdVc+u8vV/sevLsv8N3t\n",
              "TszY9j31K9FUgWn1l/cuJ1fOa9R0wQOmk0q4b6kkIANcTkCphX/sb4Zfp6b0h/j6NUHpmMoG12eK\n",
              "PIKkQwju/kgK2AvYuV3fwZkAAAD0AZ9RakK/AAGwH/zFgCJjSoeux8qKkQyQteB0l6uDQmwl36mN\n",
              "1nPlKOCuhiECnYdagsUCZnmwhW9lOHPunQgtZfJSGVhzvGzOV+P4ZHW2e5MKDixT7x9Qpzv/D8yh\n",
              "DfTNjvxjM7C5/UFq0YuL5WUH/XD+++QQpEv/Ec1NJSRtgVRmMaxByacFtQuj5zEt6/EtUezUHa2L\n",
              "oLWJNMsLJUMRgWxzzrBJ+XKonzMAFHWyYoQ2dYmdzZDUyMx5Whqv13oel8lEjgrnzgXZddUfmGUE\n",
              "RXswSVELNmlnCIRofqSjMPR4yPAXNu1dL35AVdRtrJEJbAAEXQAAAQNBm1ZJqEFomUwId//+qZYA\n",
              "AQl3zZ7+4FszAVyvuc5pYICHxZhTytlGGCn915sOeqsRdat6PmZ/e+kzUfeGYtaGbpkCei7PXrEq\n",
              "0LmAUmgkh1ykYFCEy3wRrzMT9cuThcdbbZ9yh24RZCCqSuOsUQAneKuwV9QFUAW5yDX/Lni0J8U5\n",
              "GDFQM1QX0XKiGmOLSl/sDxWf5UcJpzZkRo2MR3xmohF1rkoc2MZo5Z7Pm2XTNb1lGVYpMjj125Pn\n",
              "PpaG//QufUvY+veZrfEMAjX3vdQuPdSkI5QCDHa86Y14Aid0wnbng+agveiRx5CgARRXvX5ODFLq\n",
              "J2t2+O13Pt4i+Za3YFnAAAABFkGfdEURLC//AAE+na5i6RChEeYAJTwGV6/6AdEK0cRb/Em/txVu\n",
              "NQRzQobjgMlFEk8aeBoaDkg813yDFmA2OvxS1SN8PIyqSDpQJg0s1D1SPEx2Sx5qY/hQwJ8Be4wp\n",
              "+jbB/5AH0Y3A/6GoNSQOwC3xhMjW/QQQV84GTcXcO8eNld9WdBDp5v2TyUjDomskfGdVcbA77cHs\n",
              "mqrmEbZucK+JDgzKfX+C+sfJn+tOkgw1a5PO+zGhYsD7Rrkv30EdIFSJkTrfQnvw4JlOHLETETJl\n",
              "xgNO8cz+UXpPg2G345XdDQskNe/y09hvC6lp/nQ2/8Gn29BzGBGvIt3ND2Qg6uiEQ6WVMQxVRdQc\n",
              "jKI3DUGR8RtBqgKCAAABUQGfk3RCvwABsEiby2ABa5wYlmeqmXmXjBx2wiHfphIoCaU521cb1PLL\n",
              "8opWxGrOiyoPpkeS80yV7dVGSQH/coPD9IU6STXzPKrN98twEVzIvesBYvPuy0S8zomNWilDpduG\n",
              "MNvqjUp4mIdPtszbhSg09rA/wDS5B6E2EucRfvqRgORq9Hha8vBxiUMiZpP7OWir72sQbLmY9kHv\n",
              "8OwYJjrqpYLtAD+xDtaa/lyQBluXh2uleWZhC5Rzj69xnI69lDcqmO3gYHVidanRMNPMclq2pVgP\n",
              "0Dub+N8yT7FzA9b1XqmaBeIHGNOSLR1YLoXIEKKsZmYUKJBuPkH1mSTauhgfMw7qHXKlZut+u+64\n",
              "8LuX/PqzWLrTLkGQRV3WMpri8fQ8cTTuMSqiHLwWt4fCuCz2Z6gx5/sW2lq4jE1klP9YLSfzVRhP\n",
              "Pwqz6jlJQETgBvUAAACaAZ+VakK/AAGwdDKjGnWYFRyGD7ipZNWLT+qdts5Y0nFk197hxJ5qfdU4\n",
              "293Woydm3uisaqQxtYonGTNAgBKsB27iawCSIkLe1ecBlClngIdQvqW7Kp1JiOYo9zxznfPzuWZD\n",
              "ipUcTG//+8RoKExiuNVF1Kkn/K/B+An6X17tt6aRlAtALom73IMgo6wW3tqKCAs2PsvDAMEB0wAA\n",
              "AjNBm5pJqEFsmUwId//+qZYAAQHlf4Cy1AC1nbAJfm9lI/VrzaBiOGvyf3UsggIFweaoemRpN+W0\n",
              "66LOn9IxET+Bwmb8O1btxReOg/sh7rVrHRlHcoUlT2cA8AnCzl7R5sa0m+l1wKKLx6V4MoDkGKxm\n",
              "F87NTQuE0YplI6YIIDBvJ4AJrP4JYipLADExOL/nhAuchKVs2542Ceosv4YX1PknWwnCvdbgDbSP\n",
              "5e9I1Nl1l8vfGwfDmwnDt5wHLVEuSQqTDbpSfHfvS4FDtEhF2QG9rHYxJm+iN3LMM5w48mOV3pYK\n",
              "0R4BHpMoyzE2yOC74vVJyhLFS7qxe/ZOvl/xYyFdNMKeKpnDu2UxN478wmyiibmQHIf3g/lgUBdG\n",
              "KzCkk14HJrMkeCQTZw08wf1MK+vtRJ0Bxfml6qRQNks7GtNQlZyDZuE7EUu4sm+OwGZ7G2piNf9b\n",
              "wJgRn8icb9HabxhAMqd3bAv37EfBh+beicJ8r1tZLJFeSKcbMgDmGTbKTus4dpwgttPrDXJIPRNJ\n",
              "+fQue9VA4pgpsYWJN2Y/MDnNCCh+Azx+2gK7x/KuGGBd2fyfaEXwSyof4JzLIdBfxhhCD/bH4aW8\n",
              "M6T5qDcYRZf4kv9e/piChC7hFS6lmHXJou/cCyFIJmUSf3YqEFrbV/v9XgZ8e5KiK/F5rGjkbgER\n",
              "nA06r1VhuHzy2q0ZOAujVsnrO3zcJwOY/6bjf42NwBF+4/4UcO0bj1NoArHImISL56QD0wAAAKVB\n",
              "n7hFFSwv/wABPsifcoLCzSdhoogoQnWJESYtwGePcuO1p41fhw7dMuruk8bABA+iE1ZIwcFmzGul\n",
              "9VWA0UPUJh1I35JFrbe/cWJKxczBgJkBgJ5S3Ck2Z0Drn1oKqCnNqTpsjJ1fJrVd4ejlbHGvOsBP\n",
              "ZG9xZXkwgHQr7j6FWwhgDol4cgvtf1WZOA7n3BRxSxzmy1FQqoSCpTulyEkB/ot6DUkAAAD2AZ/X\n",
              "dEK/AAGv/daCqhSyFDk/RenAAcRVFxK+F6SCY52Gc+YaLtM8u9WjbPxYh4s79SyW3Lo72CDXd85O\n",
              "NFUcgRDBAVIEtGuEdmC6aH3Dbs/PyZC6oFb6Dlu1kspLOq8hdErL9csmm/eMKsrSqhubhL7KB0D6\n",
              "FBkSTp2kF/+Dy63MKLuYsWTanJmi6AKVmGGc91mpayzCOex1pJnLat4Nvgr1jU2PsiOYNGKR2Tov\n",
              "GWGr1gx8ljNv6EDvl8OJalcRCNXmiQvG9Itg3vvQjiyLPzMsoLAN/uI9BWpRBSYvprX/vCX4mHOV\n",
              "HejUzMU/aupv3lJkIgNSAAAA/AGf2WpCvwABsB/utkdhzRH0C2qGZ1PPcToAcb5CZ5T9QAXPZhTr\n",
              "hgNzlr7bdtFeJ9tb1Z/HcpJNvt9uVB3AoZaemUV5iIyk1FpzsTDDokowMLUREGpnxja5i5xIlhS/\n",
              "8iu96acW7qaANQDQcZZ/zrSxmNZyTRxfPdKo//zeTtt+nyPFcO9PqC7idS0R3I6YxmfiHoNdMXQ5\n",
              "e13tXYrWkz2VPizsB4ZmxrEPCamlY2lXuHzq0WeJ0pDwJ6B2H4FpDKfh8RwpX8TmRXjiiv8tmaOB\n",
              "Fsn4vd7LH2MI2rj7RZ/ahqIvBBa0K5olGxPwmwOVuUFwCXxMT1mZ2AwOmQAAARxBm95JqEFsmUwI\n",
              "d//+qZYAAPn3zbxrqk2mnGKOOKgB+/gldIpEiFO9z/IVsrlT6S70St7jyOE0AK9qAYvdtWP8PTZl\n",
              "TXzyAfPDQPs0urNJ47Ii1iHFJoYtxk20IiyX1X1Yo8iH4J1LeimmTfDUuf+6N+plNV0BSsleM+7f\n",
              "gpB635Pb9aYzFRZlL5Z/fPAtA50o4yxBeBo2eY56ZE9GWoGW3NEMrdNGBK7ikxH+Wg5BblcXDJsE\n",
              "4CTxCgPEn773d7qbblD1R3QCiu6VgjfKNLNePOIePH69oe0yHQJAPgwjbLhX84AGVEyX0EgvfROc\n",
              "rnfNX6g+iIo4vbuuvfI9EfTTnxL5/BowbqZ+QbIwna/uS07jZYQmAO9R62QBdwAAANlBn/xFFSwv\n",
              "/wABPsh9P/fWCSg640RI+7PZl51sbXYgFGbw9QpSNOGnLJFIvOACwVRj1jYw3YsdQD7bwv9VSW3q\n",
              "dIMU/XtGxJ02Ycmqlm46niE+fDleVXk1Byf8V81+RxpapV2aQg3XM5So1iZjEQoZP6PKj/orFLae\n",
              "1IedA1u+A9hPBqCscgTFPilXxrdsQKojHM6ZozJQoasooY5Oars9hfHBJ1oieictSN7cr7G7Q6yb\n",
              "kOnW6ZR5IaQVVxd8IrLTk5Hgd2iiR3d24r609jqCCu79DxuvGFxBAAABQwGeG3RCvwABr/2rERh6\n",
              "+RckQ7T532nGYWNz4aADcD5O/IohvuRgWOc/zkuYPKoa1fh6E2r2Xu46RyZk4IS6ajsQ1sFLL0jp\n",
              "U5LPxMKXxsqB6oiixHti8C1mRFOz6+qK92GXmcLuWUUQ503iJjg55wu37VPc8kZfXgi183JBgibR\n",
              "X497Dz5MpqOCvzhrK6Mo0An1Y0oyd5HQv55IcYTgAwTf9eLYAzkOZaMyEDYnXNqnjWiIv0Dqi9nc\n",
              "8BunpHNc0K1475JkZ52v/8DIwHk+5zykFtjrEq2FZZSv29YqAHjYsKfIZ3x4SkY0fDBZSKXEsdwK\n",
              "USrZqU1Rc1TMV6DcdadR3NjgzUzluUJ5RotSLZlXM0iQyBljxSqj2tTm2B4YinNGSTrerMkJnqEF\n",
              "rrc7jQfLi2yzyfYHfK1799ektIXb0HpBAAABnAGeHWpCvwABsHKFINq+bsv/3khFIm8n1seZ4vXi\n",
              "/TTDIHDZvEDbDy8QP4HiWJ79zwHgvgPjdGTsbMzCX7yffhY/ZWJ5uz7ntgsU1qnqQfM7M9nwVr1R\n",
              "g6SLXKHzz++L5e1XdPp6fvtdRqzTTx1Gq7WTeMSzv5kxwsbk2HdzhRvBU3gmnbYymKEpwiTlHklC\n",
              "IkGffvsjUxv4dpPJieGBB3YPJ5r54WCGDeCZG9ilzDpmJ7uVLSO67G00Vh783GdiUgZBIqGB0BOY\n",
              "XzWFBwA1C+oxbX7E7/1G2HaNWkwoqFgKHGugWG9h8PoMbSQ1b3egSc5aN4moqqQZdrvJhPLshHD0\n",
              "Y+psP5Ouip7fthKa10GAPqGNlrCyL5yoXZiEG0tT/Jla5j+yi77kUByp27z0czjnT8Jyfi0/+Lkp\n",
              "zUYM11qyGzrAB1EY+NztpYqHqp55AeCaNCB7PzmpzC/xgX2+0OzQ7+YXNrIIKi86cum5ua9GgqaR\n",
              "t5VhWVAwxPJ1wpbP3Deo5pa6y5AJXhx7S/L+Lcw+mZohUQpje6ivChgAAAG4QZoCSahBbJlMCHf/\n",
              "/qmWAAD5roFcLhxfuOW3PE1wHwFNnKdSynj6nHIpX0fjWxCZvNC4vi0kq9KyVRzf+rqfpeRSJS2L\n",
              "+o4EsD17ZbjGvrx29GGT/NL8ohmj6E5xl/gEfBzRnvcyjVRgw4uWmgO3T+0KumR+FNQqpLrXvKNd\n",
              "CbQ/tprWkxCP1zKyIXpo6BBxJT64GnZ+1TgXKVivs++l3lkaUHFE0rI66VT2JwCMsXXrrpgjMdzR\n",
              "sFoNxupQ5l21EkWhCZGeCvbSkUp2Z4slhK3H+JEnY2jLv7rd9fNu8KeWovTQnQGkOWZu0I+gIzJc\n",
              "YDNDG3B0r861kpCOZeFIZPy2RMJJxNXjaa6G380+t2qOXKKPGFqja4F2OllX062ONl5wS+/t3QTl\n",
              "+zxxlCQY3vevKdLHZFVFwjMyi947U6XvIOPh30Yzjv2OeAkJK/GJY7lDDLA+CW3bK6tuUMoaBGij\n",
              "b5DBY9pN9FAJ9fDUF028b8YYsz9DU0fAbvjk+4zcG+i6CPm71FFE3ZZBqb14UN0XQwLoreru7J4c\n",
              "jJHeiVdVFHD7L1ylTko+hT0nzlqX9oa90shgFTAAAAGaQZ4gRRUsL/8AATXxE0daBfYuP39GKpGi\n",
              "e09znSmftrlhQv/G0K1WRT5XpppEg9PejUhOOsgyhMp9rQy95Kbi5j8p8/La6JcaUPz19/P1wFbn\n",
              "ptnaWagQL38RhkWKecGEvdZztt4i/Pwgu97VkeXhirKzlwO/87B7/1hk+bu5mn3go3ibL+wTuAoH\n",
              "KmACPy0jyUCtCpUEo2mxD2jfBsys6OSHoxE+qha2EZdI10btW0NpWqNiaWVh8/fCM/ztEEV8CVvL\n",
              "nKG96B07cfJgT0qqp/UxKeldIH8kIEZbk5I8wn5e0ghA4dZpe4rEkfWRyBUjiW4cfNXZKDj8gdYp\n",
              "WDJJQA9AilDzNFF6wMRuu0M0YPHNbPvAH3AU7EJVNM377sgCP3EK3MmCMDc67zLGXrNMjUUMcN6n\n",
              "obpvLAFNeOoVgY9VaSkG8eho+8ggchEbDTaPoXeE5pCB7wNVzqMIv4lICkw8LcQbFUkk8o/aWVs1\n",
              "H6GjS8WXHWoeyIpMoE8ucKzNg32OASRrUuep7An1D5qxI1oBmYkGsg8SIOEAAADQAZ5fdEK/AAGr\n",
              "ztfEGmEgsvOZTFtL0p9nrZrNRehssShHeCN9FC6SvJXN8rRLuADjBtdAEU8OG9gy7p/Am4NuAtG2\n",
              "z7zg/gHldJtFJdiQnH34eyZopzcaRE9h21BBjrbZWy/3EAdH1J/85ntpzBfPWAB8btRGyG7CnowU\n",
              "hWBSN+syqUVfqpCsJg5iocghsEK7u8v0IKvHDxgEIZaKZXf+HwaxzgTY3FjDdfUSh58btV6kRq+p\n",
              "Sjq/XWJHxsXGrvWHBlQ7wfWMyeZTLZV/2COGpAAAAR8BnkFqQr8AAavO18V3K0VAArq4IssGMmML\n",
              "6g16m4sJD+XsAAVZ9zBF2KZw8Cjgjkphb1g2em/PYaWfBSKUfYptgd68MCGPCqEVOHSE/kFNyO6L\n",
              "hthT8HaEiUSaW1lmWELNBEPlff51ImKid8iO+KlhUVhnwNae4QO0CKF4iY//aVCH56HtOvP3gibi\n",
              "xRM2LHCgq4OQqKkNNpHnLU6OuO/Px9fC7nPRAJT+ToXs2F7lvcS9mXyXm3GTq/1DzjfAXykrKAmN\n",
              "w8EiJtiNrPoXPEStoL4btEH/psDTfyeD8zzklANi7rjrPF2tlInsisx5DcTGMcN9ZPQOV6dfuTUZ\n",
              "aPSenMB0P0IgF2h1Zpg0PoaFFa50fwmd8VP/3enyqQAh4QAAATJBmkZJqEFsmUwId//+qZYAAQBU\n",
              "tLha9hfVLvZPVQomDSN5wET55AwLb60sH3eGwAHEx/GPLl5Jq+0MOa+7zYyPcechYM4AV9oNCoq/\n",
              "4OCFuU+1pB4bazahoMX3zJFT8OAyA9wDnwuDq4zui5pSRY2c/wKUEge/Du44DKKKDmk50MxL3wFL\n",
              "A+LuRmvU93b8nBHu2uUC7HjR98eoC1GKE7Dl5gKhJjxjUlYOgb/Mdllmd38kYuaqIJvRBgo4ikCt\n",
              "dJIC5mq2+4T+NkSxIbk42X2DKczz6QuOvgEWRkYVzdYQ+Jd/lr1XvpmAftRjImmf5dlPlNOLk/Vi\n",
              "hf9AHC76cFownAwcWSTcZ1gie4ne5D6CiwjiaUBHK/3kAyJwZbUb3lLST+wTbg5foxcIPaKs9LXQ\n",
              "JuAAAADmQZ5kRRUsL/8AATXOOnvbbQdKruMOCBRs8bPBLtfcAE4Ui5KP9hZTaU8R9jr7ymYZxGHj\n",
              "kBdFRzAilxr/lewsIKaBBPkztdUiDKHpjYDSDsCqM0+4QLJohuRWKaBnMpSbi0ZFqkeVWBWmuuuh\n",
              "/qflYrOpK/AnIOcivHu3GfDSeGab+uG7s3PisO29UQeACjnXo2RKzuTDCqZi9fQnSpfDDpRhxfoD\n",
              "LHIaTFRqMw+REfYdTxP7LdUJq8JaI5edMF7Tuc9zhpRIJyXmk8aaZ9Aos1Wlqe7tkTTIPoXOKQbi\n",
              "tLkBXdRGGl8AAAEwAZ6DdEK/AAGmSMs7BS8nloWzjiM58ENnjLZ39xbPLC2Hkf38Oh8SLRlM3fKq\n",
              "vemSyR7q0AHKXjmjySNp6VL9WE1tAZl186NZfAjaFlqNKv0ax54m6yZ3peEt2dzwnSjfi7XP07pN\n",
              "GsLhU/fwDX9tthDOJeIblDES/fT6I0oZ5BWc0tSMoLnfZuOMRb3ThsgI+FnztXnBGAXrgQzuX4Xc\n",
              "HIEVQpsrXm+8T9qLcJxvTqdeOy1mDCWhyX1mgEl+EqTSnZ7wy8ml6uJ9ZuRoGEIjs943+wnsqeVd\n",
              "atDdyj0CnO9/bi4mxSufi5EYCzlDssNSspj4IDRoFGOjasz+fOxaE03Kl4uX5lzufa5O/uSq03WE\n",
              "ZuE9yT//9onJvSEy2L8P9Yb623AgbfQJNFhDmKikgQAAAMkBnoVqQr8AAavO7j8yEa00WmyhqZgV\n",
              "erMMzlWVLxtOfUTAm+azZbjYWNAmfWBK6cow96ARABxubhB7xdPC9MBL07anFLdRHX5HWyxysTou\n",
              "6SFwV1kmoEGPHYKU0Jr9ygTWXfXBZ6tadG57cyQWzSN5hSfi063dB7dmgGeCTlkD4i142rN7Llu/\n",
              "4oo5e8d4Jr8X3cq4oH0JPp8tqUGXaNPANRHvm+waBoi9ehskZQz3KD8IngbOidbVqTD+b85W+E9d\n",
              "+DwnruByBB0AAAGTQZqKSahBbJlMCHf//qmWAAEJ+Rp4lydhsZDOz/mDQc0uAYaPHkEqIl5wgqDR\n",
              "JwNT5/pL8zZLkflDuC2FIJCC3VeqTmZA9SebFGoOqLS/YAAFdAzTPLsINymBsZ6iTf9bOZCNhVnI\n",
              "vuH3rOYz6AtYbfANBAx/N6n/SNMlOVzJsLqj08/aswheC2RtO3MrpxOJIf8SclRyKsGpVtrUn6mS\n",
              "gzQDcY1CpOvQJeiXcAPaZVEYjDDd6W5rNhxbpucHpU+rBD3BhstCE4WFYuH70iQRjAsnwEBLO7+2\n",
              "RuRd70fiIFW7SW2km75kgbeKEeSscQ1HvJFYzLRNCv9KHISwPCs5GD77CBIZuizPk20yxV6Dz/Nr\n",
              "edMjs9AjIqi8C8XqaQ18Gf1c0CBE+e8HHIH0QT8B2lWsnpaeHgi4RBtD8ANCDBrdLGXb8btgul8d\n",
              "G0n6bXZij/U6Klnrs8RCXdMRuQiDaAIw44S2ZYH8pkLLIp1TM1hzfTjtBqQ+Z0lxn10QWOAnxrWh\n",
              "3FuVaHjp0vphn5/Vf4nDgQAAAKRBnqhFFSwv/wABPl6TnUdhwAAlSPsoHpAMI5+qRLE9ESw/lovt\n",
              "FIzta+yhdzN6sZrATHCjBJghhset0mb2dUHKfRlQkDnOhl4CK+d08IcbmNAg6DFfgL0Yn3Ln8dHI\n",
              "sEsbfMd9ONNhQLvbki48lXhGC5BhNmUo43B7G0xES7qGWg8FVf+oJ2wvq7YvyRgesB4868yzWcCP\n",
              "SI5Hk6W9gxgY8lv5QQAAANsBnsd0Qr8AAa/+Ao8SEjmGa78pKzDGhauQ6Gi2pvRiMJaADjm+F8v0\n",
              "A9L6cxrqHMYISxGkp/pHVzu1CSb5qGXdISYGeYWyBaOg8lnVa+evFUwZrNpeYzzw+uBWMwCYNHKW\n",
              "cQDv4UlCe/55BCS8ErVETZ+CL30Ovpt75/ErSpQY8gQ8g61FdeQ2GCxX+5FtnPnYDbVG952EhVg/\n",
              "UQA6DpqDNn9Ug6UzaNVju6X0KfCDuFFnqOYGtNKYmJxDCDofrBiT/6NgMd87Fgy6+NotBfAX8Uq0\n",
              "xpo0yFtCh4AAAADLAZ7JakK/AAGwsKfEzjx/Up/UN4avBs6TZzGUt0v6TXsUzVBZ6+VjlT/PEWbI\n",
              "hDl//yStnvuyaxwAB1m2p3xBD5HsgCjICycyWYZguzyB2lNVHYmKqish19LkMmeV3Foj0pUjcMG+\n",
              "qrLacjMBg3/MW8G4+SkdVg/UQA6DNBMDztWwHAenup3tnTOzRt8y7fuaAZiwzOnw+s0vbNouMuk0\n",
              "RES/fCi6p3XI3feY9JISe3KWI2S9nadc2EkBtRiNoV1uG5T+0oG6XgiltD0AAACZQZrOSahBbJlM\n",
              "CHf//qmWAAD5tC+zxRpFxcOQ9yEXhkaElGPE7s8j4M26JLFZ/+RCGhd2onz30LOJ1DF5eXnmeXRJ\n",
              "EWruiK7RQNrp8i5VgtYqtXUxofWGxvU0iO2QiGuhWruWYHOL/R/3PWEncRzxz7I8gBNf1Sr+iaP0\n",
              "8QbhKlWKd2ztqXeu2XoelbAsR2yQfrBgEWHKANmAAAABD0Ge7EUVLC//AAE+tVIxPSVxJyCG1EPN\n",
              "3B2iJim9mwkayB2jj/BSvZti9xY16ThLCcXrzcNWj0yY5Jxh9i6yLTFRaTPv3HQGgE+ne0XhqCbg\n",
              "Vk5Vz6UONhX19ceNhggC27ouEvnNL30PSOA5dkqjWdk8qNU5PGeg3X9M6rRD81FbL/8mEpbpZne7\n",
              "IEmZ/4Irpc7lb1zs2e2vDooIPb/T1BI0N8vrdfWDOYMLSFgsLnz8Pyu2HFd1WP6/RJVHL8yozCm7\n",
              "6JaCbfKw0p0ZJZNzKUV35e6wTEZXNvZLGawU14DTSWGbsLovWaN/A7srDzv+T5wFSe/xwzR9Y+G/\n",
              "pYSI4pTVKl719sNtGvv++LqyEPAAAAD6AZ8LdEK/AAGwjf7S+g08o1Kuq0U43N1vELEir19uShXi\n",
              "SBijcgO1UazOjuqhOeDwfeTVCADhxUNY6yOck9dp9dRhmee03F9TYcEWDSebKYj13DjJizYqhoRq\n",
              "a0G8JN5ANhtZr1s8k2R3hHqWCUtRutcNKO6KgKmH2CMWnErKQbC6sLTDs+3nTtSxxixI/qazM2O0\n",
              "SuqjbuQvip7beo6Fa+u3BjNEeQeFD+vfQ5MLJ6xnO1h+5yVBZyc9AefKopkqgryWojTNWDv1ST6f\n",
              "TxESbl36xzFAjyM4d/brdnKIIsHK7Ap1NmXqXDcLwHbpV4s5A5eC0VHj+uFhKwAAAWcBnw1qQr8A\n",
              "AbB0Lmkdhwp8z2sZxelf613cq/cxDDenUAHN82ufhCgLXMg1NonuIm1gyJrkf5CdzrFQ87HL3HKA\n",
              "zXB2fzPp0wjiHuKGC92TI0PXlHxjtEIkJN/cvCuc/D8tuD47cf341yeyj6jAnGQS8lGgRhoakQHl\n",
              "gHJpaXjwgKVyGz+X4TfCcgQ1Gn2lnXPWZEJDraNg+deREVpZ/7HcxuF95Y9JaIuUTzbKcAxIcwd3\n",
              "t6qXeYnxA8DGU42ouXws16Xq1degCVEBfNsB7gIyWiJlAVOlNJGtlKfvEv9FS0y6InneFre0M8Eg\n",
              "Vd+o+ADpIbeqP9OfAg275z06SlCFzP1U0L5s11LqBPy3XHWHzDhLXGmGBMEffuwM1ekeG1UxbI1Q\n",
              "VvAdemNbIeAwa55fXpoeBX6v/0wW3Nj81wOu6/Z/YBq+R87J7DJig/mgct3a0fu/hrkoiY3/cxmv\n",
              "5kArDgkQZyCD5wAAARdBmxFJqEFsmUwId//+qZYAAQHq3kUgOciNYtiHUR4CpGIAd1vgBomksWoQ\n",
              "C9GEbGyr9ONoRGiBapBumKfYg3/xYWxvW9NijqCTP0GJUsFe64a69ed+8i+pLJz3puBm9DaTvMth\n",
              "/P78OpCaSP7W/GUDT0YMsxEoO4rZIeWfLw1WfPpHYUmgSe2dv9I/9zuwzkTtxFTGKGCM1RnHytI1\n",
              "M+Jqn/gA1yvhgMYi7AjPe6Ju//z/ch7ntAYdgzDIJ4YjIiWAABY/W33GJt2cMhABUcDhjnse42Xp\n",
              "w8G6BQlgoimLUz5IfIYDAffRVJD7hILZBf5NuJGfr+ppDizoNrmLmXAx9nUDcxikIF1/Cs6etgmE\n",
              "AK/LMvdAIuEAAADzQZ8vRRUsK/8AAbCwir//7z9Oq+nVV6YtMWT3XpXwnL2I0SPoGG8DwodQKkdt\n",
              "SM7BqPehl/zGOs7EoIlMX1+m9YPMcEalRQeBydwTsEcBUd/uqjKxAfZMpq+plwFnjfRJJ2yKqz0l\n",
              "Lbgt+KyelEfZ3HDqxyNFT1TwPLwQy22SFRJkx97o7ZC+NrMFwpsgwvcBzmnLkjCntVm1ES1029WO\n",
              "Au4c1Q/thwiyLoTU+LfZ20mFBXraPmWLnA8EmhHKRw08JeFV3IAY3bcl6rjXpfuSN4RAUSAoEWD9\n",
              "VthFI44rdkcHTsTpnjpoFDzWtfV3T0zZi0sLAAABZAGfUGpCvwABsCCNfHKwAZ6nJuwaxTuYhv4Q\n",
              "Xle1tgw7bJjS04A0sOmEHZLh1wG8wH5E0ulX637uneGbineweShO45hymoEIZRsrwowZa/2Ptvxr\n",
              "LC/JAjhO6txP8TzrE+gvZkary1vdJ+1H2mHXnNWgGW3EjXPan3fFy7kATzUc/g+n59/qsXtqWT33\n",
              "b6VHL9lb+popdYuQogBrzn+0w/IL1RRyZPtZoWzMzSfLIty6kbXU1c3o45734EqeiJ5Q/Zls2DNY\n",
              "vSUQjZKPXN9CuqGwkvDu3wKKWsDzBXNZNjOie0bMk6e8phiYkdnrNOGK/dz4P8J+AvkgEQ4gwrfX\n",
              "MTwM8o8NkCG8YLwbdSHf5UK7lvp0cdk4uHBzXNwp/qUOoGcM6y7tvikF4a0HqO7AZbr82g5KL7fJ\n",
              "cdkrEtzbxgbmJUIbPUvOIDbCLOJEHzIwUuWaaA09KwdoSZUPzMLwpUDMNKSAAAAA9EGbVUmoQWyZ\n",
              "TAh3//6plgABAFBIAtIAS1a2UKRP9Y1tzeZdyj2UPPQFyoTtfAI8IVb2CMh4pf6z9MTZgZvgGvEB\n",
              "LqKrsBz4H+nPQIywTflgfiklVx6zldczc+T+Ocz1P2aHONpkDsvUjmELbasvgCDHB722Et17NKRI\n",
              "4LzHKSfXIDGVwmhblkqvK94XFviU9y+K/+E7rUBjX8Hzo9zSqDnAKrTNxDC3pFIL2dDUJBSHJg/+\n",
              "EKj7xLB8uaV4AqI0L7Cq/+zN0fSDb39nCa6Y16sj3NQJL3GDobyIM3NfBiENzhA7v9mKUGaFjZqa\n",
              "Zbx653EAHHEAAAGOQZ9zRRUsL/8AATXOgD3CgWWpXj0e+S8a+8p5NipxESsYD5feATC5TzzW86JB\n",
              "O0ixKU2G7ZLZgILxL3qZ8qH00p4rIgRAnBYN4X7FwBeYo19Ype/a1s5q8bcpVSKX4ts/vSTGYu1e\n",
              "k7K/2LAm4Z2+EWxovVqjXJfzAMw61GO5YxtyVRe+9oKzhq0RCgOgLg6ze33O8D0EHLcr8d2bSdWn\n",
              "/W3xysgsVyvYIznJMe7UpiQagzAy6jKp7zUbOAL6y7znuRuc9nrAXkLq2saA2W1JcjOMdsWWP6fm\n",
              "xAQTVdOhrcUR2IGJgKkm0ZY6UnclCOgRrOkc/vIPiZR0SefCE+L4X8pwNFwQwBkDhitnbf0q3i5n\n",
              "f1vnyzIBk0CL3v9IBjSyoQGkEOj9gvSNvku37LuBecpmapfviDhkxQXrilDLt6bSERnjt9YuTixR\n",
              "n3ejbYYctVeUN593oUA6y1lf0wQsWhfCjNWA4+P/6YWqM4TJkhwJn9xph1nQHD8vxR0oGmawv7Kq\n",
              "6NgN49KRMc3BtSAAAAGcAZ+SdEK/AAGsHXwTG1fABtOvzjc58H2obGzLXA/Lmd0CM4osQErJqsDJ\n",
              "ehF2yTdxyZAcWYK7svmh8VkVlTF0lQKJCgn5JvIvHhVtFdTf2nfLOqUOrsGdulm1BRehgOTsIuaq\n",
              "BAGAnjs2P+/11qP7rmezubB+JDW6Me9wPpdZZvAmrfqJI91h1VQfTdcYuP2ScwrZ9C7vpUA0ZAkt\n",
              "LnYXQIHbizeuO9HfSXntrNyi8hHjv6rQ5B6OMWGRoUgR1Z2g94bdKX9X5EH2YObNEuT4WbFEha7E\n",
              "mCGWFrzy7Zx8SKN8H/Mx64K/hrh6J4Ji44/xk6SmSdGQc0jnBDF1QZTgizwpHtp7LtPiJe4HZQ+o\n",
              "3JNSdSMWVeYaVHty3j7F6a8zzj+1wj6LsG4V8QYEf95dXd+LyYvBoL5fd4AZvd/hADISUo8+J+Y9\n",
              "tySX42VlFmV/v+HIadQQoZpW8bFseAWzLKDP83OBlHfFkjIpm7Y7cJXxr/f6kUjbgHcyn5HAvtRC\n",
              "9PdM9Z/b+7tIgNniTHvCkX+Odfe+yVDZ87AtoAAAAYwBn5RqQr8AAbAFTGdnMeDwAZ7al7IZ0vX5\n",
              "74BXRtS3Bkq8XHuP061I6OSvwPQqevsHQrERnU3XX6f61lMaqqEt9Wi/2JFP5lH2tiphq3c2AwCI\n",
              "FuQrwTboFw0p1jAB/kB+AdFSxKL4AvtF13Gk55a070sWg9gpXE99s4WUcCjD2h3PvnDS7rVq53ky\n",
              "z/W0OZVeUpRMZIjmtLEsbnSwqFYOnHLC0J5JGR+MPBky/t4g08qF1re8DwMz5t3EFPF4u42aiCYY\n",
              "0D2QLa0yzId/03LF2jNRuRwzDRAmH8T2GmORXsyyVy0/i3x83xxnpAyYwEY63WJmTAeXi6nmICc5\n",
              "hjwwdbgyAreOXgmm8dJD+bfUk0onw96UFnN5s33VVfkSl4seuUAXswSQJ7eypH3V/LuO393mRr3w\n",
              "krJjCeOWaz85ZEimaQYmkLhqBYAAHQl54/4AL8yOBNPbldxTeyEuyPFX+otvx1tgbitkAAEoJT/E\n",
              "obf5fnQJvsaJwBFQIfUnma7DX6OX6TVtDEQ8B00AAAFQQZuZSahBbJlMCHf//qmWAAD5mKKAB2j2\n",
              "Y+5zEfCaJx6I/li7X0u9ynpNHay4/+oR95gybQI6+1jORrpSW3/7t2L615EIijmd4IxzSmRPRiot\n",
              "LC3lhnsE5ARz/gy/ra13wA6aXCH+KXLFpLgRi2pgBbq0ZPGSAdBtQT/SLhEl4/TD2wGeojb/4dTS\n",
              "FvI1OjpexbGvdxBFZgR7Bj24L6V/JPL80iECtb5xqh5laQNiQnXDQAfOWdFspjBKnaMSJ7u3UfXe\n",
              "nLLRlOncUEO7M849Nd3I8/sYFQv2BOW8rYQT0JFTxGGlMEKoSwiWloY0WO4qL+63DDfLIBdJHgFd\n",
              "N6QfAQl8mY6Mrg24gbidQaJe4Hb5Lh16CODJ0EDPELoJT1wcCdgBoql+2w799Yufbmqb0wXV3ebW\n",
              "CT/gfHLS/IDqdACiz/c6tMJduK6cJz/4AB6QAAABgkGft0UVLC//AAE1MH2ks92QAOE78TIndW4K\n",
              "drMNuTKgHf6DLITNaKHy4S+694/UcdB5KuknYc0dV16fejZQ5yG/GLB/n/Gh+qTec3HZdxgdguUW\n",
              "FR+jMgTiDmHKWHN0/aLKrnAvx8BR+vQO+yE8NkbNMOd1r4ee7Y+o5fvdxNGK8WESjn86PctJ5+cK\n",
              "OX6nUvkLpcOVaEYsxjqy9mHc4buucst3n0Bj+bVT9Dkr6RT63eZIhzU1ctQTkWvTYZ20LkxtQtGY\n",
              "1lQ/rdVtMkoKNrQkzaDXtcJtXl0O7ChwQ2ozlIrWwnIyN+bo+XhoHgFHmk8XBxNw7A8TwQw9iuef\n",
              "q1NHi2NVkmnhJXPgwcqVyrltpzjGZG89VDEMIJ7Cj+R8DV+tBUPoKkxVjq+gpVdDNKQ2y/zhdHOL\n",
              "yC2fEhnhardRNNdIH7qH073n8yPyhNjbAByO4MN7J51B1hRlI6dn61hsMRklylKt3Lq/oq+GL4vL\n",
              "ZNjO/w6HZ9rVnMRd6HEw4GzBAAAAdgGf1nRCvwABsHkIeZ1iPaEU1UpMpqs4bCCGvTZ3TPTQJ8e8\n",
              "UvEoE+ZTtHdj7QnaiZxfcqXO/EE8vTFjzKvc/9JreEJoGbmlgJAAKVZqT67MQi2UEfIgk7oDzvYQ\n",
              "imHNex7xrX8+6XZ2yWoXj0RJapDGuq2wqYEAAACbAZ/YakK/AAGwBUx5lZuMZzyd04ivFg2cBrHT\n",
              "t34zzyFKaiQHN2qke4uTctWvenxr0gZbUO1DI5mbpY2B710s2x+ADh3r7TKE8DLPeuD5ZhkXqIzK\n",
              "gGGV/r+2/18IWJPqIHLJG7dHJbrYc0JuYoso0ZHW7foVcRPs0l/9teA+6UqMArD3cMsa4I4LnDIi\n",
              "ygSkNd+ZdC/+Byw8RsAAAAFIQZvdSahBbJlMCHf//qmWAAD68TkPNGSLbKhrE6zujsf0Snatn/oL\n",
              "9dHdujkbPflUDNnI9YTsBDb5aeXjSwGQV/xUF8wTIs7HgR/dXLBPq1zxlxivmDYhTyZocRJUdNKX\n",
              "zQK/JWos9OUmcyiC3X2sM7J9MFpWJs2MwuZFksXP1z6r4QZQ3spH5lOjD/1eCTbkHy8HMC2xvFc7\n",
              "PKEOkT6UWzAwGvN+AF6JrRemdOlSUJn1veeAkUwvVO/x66Ke3EvBQldjYiG56AwjtPA7Jid3eb6a\n",
              "puFuT4CMh9jpcmLblf101erkaoma0uudbBscGVk+BXdrJd1F2yXS9Bl9cjEU7FPrwWEd6F+Q1lrF\n",
              "bouwo1OMonDYlMlWnLcaVr2GwcHkJH1XxQqbMUjDRym8AhgCO34G9Sz9JUUQ4+h84jxPC8SxYCuZ\n",
              "GNIjBwAAATFBn/tFFSwv/wABNfOCDxvrm4A3NFc1M1efPe/JDyFAEzZHbqDrI9SRJuqCJCM9utTv\n",
              "de4rzewtGWKrMm+yQnvBSUk0UwtB3S1K9h4GUJg340E9Wa8cBQ/FrrSd4e5pWJsdzJophA+0a7V9\n",
              "7wGxLrdaEq+/i9Eyd6cic7webKCzOLHaeHXlsr3fuIrnh0rvoPNO6UXJQzqg5TGQPzICBD+o1Nl4\n",
              "iImz0Qt2T9ZuGFZBxVG0NE3d8E4Ok1S53hIAC3M6fZq0aLcIJM86nZLdta/2RFEVH2p0sM3Cyfri\n",
              "jZVzzNAl/4QPeKacP1es0LxBqdsH3gOkQR+BTPaN6xIgeEd+auQlfIt30ESsVIsJi78I0u/+MGO3\n",
              "YMKmwQxCBs8t4So3HN8mt2/Zcn9gd4Jg6ziFgAAAANwBnhp0Qr8AAbB5CKGimxcRQAzqTHfzPyJa\n",
              "t9fQGT/v2DWZi+S7EdAZv/M3nKv/6mBSyTez6vP1ev5pfK5r2VtQ8LrNGRLk/zORjNt8D/uFBl+b\n",
              "abp3gBSu/i1dkT9ll89IWqikG+Iizm8rhkOaU+zgjv7ecD+6Zwkfeah+6Ee/I/ropqmL1hgUzPxt\n",
              "IAWMfsdKjgQJrfLJNo+UPMtMGELC7he8SGqbhT5AkklyNneCxUZ4F1FWFxg2ZCxYQ3zl/9qFRB8z\n",
              "+4pnIlIacKU3UykkqX6CNN/RA5IRiPSBAAAAzQGeHGpCvwABrB18ExtXwAbTr843OfB9qGxsy1wP\n",
              "y5ndAjOKLEBKyarQUkIzn8fycPlGWWjD3dmY/P9bADO/dH/sPVwuAoXKzEli8iOgp1v9v0wxhnkX\n",
              "XJ5Ew0hb54UofwLg8zwBhxIQ+aYun5Ndd6tBU5MxVNHvVa8Q0BNtnwCP44Lxg4Whj8JUcxZyugds\n",
              "X+vXcyRpj8kn2snMjTa9bwPyDjuI04wd5A+9i25c5cFI1rhqrp7r2iwtOd4h3BPhvZ7fN1dLtygg\n",
              "iRP4UEEAAAHPQZoBSahBbJlMCHf//qmWAAEJ5X+EYs1gAhTDZ/nABj8foJYA3kfnLF3dEODdkNqi\n",
              "TZ9L/3v+lvUREpB/B8bobQvYa6eOuOkuljlzFH8ro3cjBfLN449CwPFwq+iXnHCux/YJQhITFuA3\n",
              "Gw1+cb9qDW+ZkZqaV27l+Kd0tMzU8Rtu0xBBOvyd+ABIhhYnRErk0s62YDLYTPgZ/ne0ONlZahwf\n",
              "/uN4ucoeabhIwgx/W6eHMTZ/ACdjQACL8W0wpjA2xegf2LumV/8LKkkAYBOpLKrqmtHZ6BAE/62Q\n",
              "bcdpaE/Vu34KUPQvUpxu6D+Bs/Ljbp2YMYskKwesq2BT8dzbyAjrVgNg4Sz91gAynvPDlSOu04wK\n",
              "I8akSKpvZ27lkjs5TepY5P45lvbqq0KeqdIN28c/WT8b2cWk+wfZOgz0bMoCnJ/+o0aCxLJgQanm\n",
              "5ElevpvFQkb74kPnmz3QMlBW3m1JG+pumplEZjejtiqiBjc7HwNi2oP5JtDWeZAgVEayxcoMcafU\n",
              "XL82MQjFaiaFV4h09u1p+89TXRT/dev2PBTZpcLGK/dUKphtVjmxBA40OO+SReFi+wV+VRzMCzwI\n",
              "HOS7aZCDSR86ToJM4y0y4AAAAMtBnj9FFSwv/wABPl6WHyeEimeZe2HsTuXu23esvzn3WhvYAvSp\n",
              "+S1BtV+uxDhKNSh21pB3Mpf90jJEKUpcpAA6zcjhBuU6DmoPShL1DUPTIc/zXEqxnuu4ZodmxgG3\n",
              "U45TSH2LSCUlfD7lLWZ9CfyYQwHtZk+EMjTdNUrEG1PJHpTrYY9GwczP0dqZKDzo5IH73T+ffYIq\n",
              "Uh4dGdC24clvrIEUf+LU4I5p6X8fHetMSMfK/4asV1vDCBtiAQjKOZdot6ezQkor8l4PSAAAASoB\n",
              "nl50Qr8AAa/+ApD7kALd1+e+AV0bKtwZAnUj5fBZiuxRtXljkloAfQ86KUp4YgsyrR2QZkC0wIWE\n",
              "uJbeG/nth2Oks92zM73liRrwCTPfIPV+7nL3CG6cCtnSGes4+wBdqOdo5z9BjSL6gqq40X+u4gOz\n",
              "bWW6KulpmN/htKrS5t1Z8LwpXVtdPHNfOaZ+9JTx2Wsm5VcqPYYAB/3bP4Z3jbmrSX02dJJqkkmo\n",
              "yCesZzG+uWQqebneF+E4+5f/x3Uah9gky5CB70iJfXTVMdPtFs5sQWPzJNSPlsNHPUBzut6a/Kbb\n",
              "ytqxpyvMGOlgTHJe3l2lzEeWDz7eTfPdnWS1MEtDWpH4Ndx6nL4+QgEpF+3yv/WesL2M+yNtoiEW\n",
              "xvfq7OFGk2dIIGDBAAABNQGeQGpCvwABsLAsG0NGgBdOvz3wCujZVuDIE6kfL4LMV2KRb8scjXQN\n",
              "TPnRSlPDEFmVaOyDMgWmBCwlxK0Nw1uyC6CPWAi1gIpa9if575wLxMau9CQBRkmNGJp9+W3rPHpO\n",
              "7ZbQocO08akXPnY3oUFnX3l7kZwdCsd+WE+uyYWcnvzxPlKUKW+m04xhXZfbf4OKmGoKaSg44w/n\n",
              "PzYGzb6ACEw+NeqeDrVdFgpZaUi3s5GSarHiyyeJJQoFU7TdETOa1i2dJTYSh9h+0JFocgx8ij78\n",
              "qeomV21diNhCqCh2YQ9BrQXmYhyfsNV6PXNfSl5CRGWMEGQiUmM7WehN78+G+wZkagNYpnpQHYxP\n",
              "AoddcBn4n9pEiOTIYK5mfFBpU7KDiT3IDDWHPS2pWaaqX79T6fdDpgAAAXlBmkVJqEFsmUwId//+\n",
              "qZYAAQn4aLWfA4YgAWH04yby94hfltpCqA6Dh5qh6ZJvsYLl2yxBTu9Kk857bb5LSpAuXcdSqwUy\n",
              "b4tYR82Ncly04MewyHfT7O8U9WKDNhGm3Ww1GidmMeYym27nfgm/gDFm0eGJ+tz/qUT4A7gSl6iK\n",
              "nuxUu7p+CMVaRiK5DagAixfG4yKZt9ja/VOw564I1+ThtL7/dY52362BPYB0wviHC8cqvsnRmKAZ\n",
              "LM1k8WChTB6Q/HK/IXL11irHsdZLFBRoec0+a91m7HHCkjCupodGB9YLXN9/R1BoNDoxjVFvHr/+\n",
              "7TPb+H6Lb/zVG2rbHeaTFspwKfFAnN9ycUlM7ZCBXAtqgX4AmZWCkiLKzhjwu9UyRZyuQQYBgRb2\n",
              "11SCQ57omgRVG6eDAB2G0KGJofJgxgkN7NM74Auxdeq0ndERLtnAZ5YLWzqGpG+4qvagZdkls9w2\n",
              "hIbddhr51BTEKzJ2HFYG6nvDBABJwQAAAPdBnmNFFSwv/wABPp2fSqd+ACNfYW/VpzWrz1ToapIR\n",
              "Ou2+dFDyXZoepDV1y/lDmkFCpSy3vm2iQmee6H21kaFZrBe9GwKTkFU3wfE8yK4X6wVvGHf/9/Af\n",
              "qETVYNexPgqbuFMJ44SA9qoSWwpYLyi51Z8TqarbIFpDczogGOQrzPBS/W9k638asGOvZsl+AFL1\n",
              "/vrq8lTpUfdl/xtJjkexr4zZpUyAYU8+pEO7Hb5e/tMQSLES0y6Zkw/Wu+fRK14W3BvXyt2HsnIO\n",
              "Iv/jvuXwd4rLg3LPWlN63o0+qGMQIGDDd/CzR/K/122D9S1gwFt0olYqkCigAAABcQGegnRCvwAB\n",
              "sEfnqIEoZCnp0g/DJG7YWnxL0bdG7X9QAdnza5+EJ/lvahlYIJuCVnyJ6q6ZRTOZxhoedmlm45QG\n",
              "a4Oz+0a7uEcZAuFJY9CmCj10rXHSPjT0KQ55nNnCRgiWcx9j3YrQzbDcrCz9RO8Z6KlpmEzP2q0q\n",
              "fq8nJXyU0+9gLRIJImupHKsvwLnclnYJc77BdCkWxNvGBkVOfs67/NfekyUY9yVTBrO91woXTvRp\n",
              "BOggdriW8DUMj+e965N3rlePdxzunLnASejFtr0rnPCCj1v2M3h19R5ysPs7s+p9sa2mpIGuDhHE\n",
              "rDUDKzG3m3Mu5ZDV2pOkat8iF7kRF3QLV+pSXC3EhcznICk00nHCRdjMdejDZGcN8Xb2tvx9CU9o\n",
              "++fzH7Nuw8AsEyMookQOrhtTfQ474/BbG3EmRXZMjNmaIfGoWLnCA3CTw/WL4QXSgAZ5wgp0neb9\n",
              "MN/6SP42gNdShXMg1U4JeYBWwQAAAQcBnoRqQr8AAbCwp8MpbswAjQAiK3NpBcJvsNRElv+9WV1n\n",
              "MlE92gqRp+no5Hs6XNBKnksMSZN8fyVnyJ6q6ZRTOZxhoe0W6es6886KvFiiMOBOwBLhSa2ipfbD\n",
              "cU83tXbdEwy+LlqCJ5evC8tdQMylAZTuvKhxItkXGyLXxvELqyGEujtGVsQHDpQSMYHNhXN2EKQJ\n",
              "7+fI/td28mOkvyPaXc7R3yAANBO1W4sug/MGl/dfQLASxqrHC3HitI41czmgTcllnAe0Ulbt0ydx\n",
              "Tly2slFAEhno5vEgtFKDOQgh+5WR0lO98Ieom85s+J7+RxlUlY4JVQWiaeX6tg8Uy84Cxg5dMAhD\n",
              "wQAAAO5BmolJqEFsmUwIb//+p4QAAgqgnDcH40sfOADbigTCuBhu1qpG/fy+sxeqz+kkvbRxO2mk\n",
              "93u02fIF6v0g1xP75D0Z1eY4/+YwIvMoGu71BQ52v5jbYNZgjZkzWcAtnWJJVXAmQ+mN/9Xhx09/\n",
              "mtZ8z7f41T6lGGaLhvu6tuqhBAb8D3lygj6LaHVjOIaJ57hRwfqW7tpuWNPKMIdxdxVT6XpPdVEL\n",
              "EP2cJDET9DbCpCHWKFlfxuZgvby7lLLC0HfkhJteKHviHb2tFuNUDsDhLBedTBa3GWC/yRK5IspP\n",
              "WfQHzZty3XFXw3k2QCLhAAAAxEGep0UVLC//AAE+nJ1dSWxulPAcldmW44qERkU3kppduvfLhGxS\n",
              "Nz1YbZi9cCoYXeeREcPwCEW1BuyGNm32aHiOdtGlzSng0vyqXiqXH9I3CbORNzuMfmPoB5YVI3Pf\n",
              "eul9YeVisrVJAmCIGKZor1XuGwwdodxPuPZhmeKgkyjdLocB8BvN+AxEDD11gt9Sn/O7dWTXXWmG\n",
              "u8foy36PoAj1XH7H9L+2e/lTXKZ0gaX0p+38yEOj2/jtz+Ro9CvqEjIMakEAAADVAZ7GdEK/AAGh\n",
              "C14r+DU6AD6cX2qXtkmrRbXD3EpPmXwMiU95vPVEoNAdOzX9erOOt09LEpzflNia6eLwTRE2sMEG\n",
              "lESxmZsEGgxLrr07zNGsG1vKP7sAJlsJbPT/b8JfXZ+bxI/d6THwtxYkbQcRUPrWv3jAJB3OFcGG\n",
              "1I9liFsrgRcFTkWkXYRDGNeNDFMg0+5v60wJ2n49A96gXstcWiHc71uLIq+DBmhzYtyGFFZPYBe4\n",
              "Uagm7ERsIF08QrDBkGYkXunkHIg8IjmzJS+FRCTswAqYAAAAtgGeyGpCvwABsBy2937TmwAZ2lmW\n",
              "nXwOGhNLH99+N49W68+zomvtEyi2+AnmHmyneHuIgUfRvds5qVhKzZDN6aJcmXukyZEtHArE6+mf\n",
              "TkMjAdholauiQc8sWu2t5Eq0M7L5lUrIA/bzcqQbGaxj/M/weVszCIuYXkA2X/4PH69LvwqSCRvt\n",
              "vDNiCYPNl/q4gBsKiMqjOEws/yJm9dsJPO6G+fHdmmMzKynmnsx+Ulap2qdKmwS8AAABNEGay0mo\n",
              "QWyZTBRMO//+qZYAAQhUsa3dVJIABkWvN8atpBpZZwZhoz5srUmC99gaXM1+qf3RAKa8I1l+f6wD\n",
              "8MTFKOV3e5bWyb7ZQdH1PzfPeslCwGwlz+ls/Vt+GSBBPYl0hwkfhQ5m1uEi/Doe7DYcY9jWYZYo\n",
              "PcxIhkse/AV1D1OT55JTas7fbk+o9JEppJbNm7w0yB6K3KoH/kx78kyKWQojFXi+zGKINw+kaFoK\n",
              "RSYCjFLyQ9IlkuGD1p+mJPXaYzktOZ/nABBwmYLcxC1LfeYuMiuQDuCd1axFFZUQguA0hcPqHsyT\n",
              "lS0TCB6kjjUVwfsK+LnbUZQddEpEmf+vIqNGRIerlkGawOxShyFtGGggqMFHY90Zdq4JlX2kHdtZ\n",
              "MKltHQxZ7/iOPe4PFQue1gddAAABWQGe6mpCvwABsHQxdo2w2HSB8rHQy2Pj3nFtCdD6GyhUAHN8\n",
              "2ufhCgnWqTu/7o7FSJ6q6ZRTOZxhoedmll61Ek5Z2Mnju7uEcZAtnhj+hTBR7FzLjlRnrTmIrL8C\n",
              "6T5r82rI32IEGyvjiWLK2J63Wo3dSCwcBngh36zrvhJciEiJXj3u8wg21EwKXu/cZQShLyg9bBTD\n",
              "cj53dPpL+hihVlCTXSPn/HISrKHv6ayhUcB399XFhS9A6Zuqa2A4mZoPlr3ILda9dyl4Z9OrECYq\n",
              "JyFMEUDbTJlFBFQzK4rufux1Wv/SoMF3p4W0TxHylUaRYW+5ohqfDb5AbVCt0Kj4HeSnqtLHt5MX\n",
              "aZeLOgAem70YE2yMIvQOCyLFYGL0pcuAjunJZq1MA9ZOh1AFN5rncLNUtgq59UvCknelobiLY/fb\n",
              "9O493FtpMpPbHnk4CxtCCF4b6Dd5mWwtoAAAAKpBmu9J4QpSZTAh3/6plgABAereQ+JIUACZ2PcW\n",
              "73LZdQyAB2KaoB3vkfF/ZfIdgpf9yrkrCqNV691YUpIuEN1fl1Z8gI3CNOVwk+6LWJMcz4DXFuAN\n",
              "NMp7PCLNsvlRuQL5UfilSzgdExhIVcS5UDYXJfM2vmtbqXmfZIUmkCBUyv6XOxDBVfp4T3fyHLhj\n",
              "OwtNPHX1bRPYjJo3Otzedgzo4wGHIGdFMwC8gAAAATpBnw1FNEwv/wABPsifbje7maC+ELGVl1Ww\n",
              "CLTc7cMJykwANF5uHUvYpRKigngSEyZoyAAORGQf+UY8EhcQPL6JgN8m8IQ3E8nTvBgMA8SAjJM1\n",
              "GwKonTqoT/faUM7DTr3SjnvL0mdhVzmQ7D54f1hV45ErKsKJBgqFmWY81qq1gYv1KE13d7azuJyY\n",
              "Phvg5MUqLQSR+aVHtNHL576Jgw5T37BbFyQbSQOy8ZKHxfHsIac8xa0Ku4DsKk35XPiQ8/MWcIHZ\n",
              "5izZg4GKArmiitw+seOUIkEWuMG2K27p+2y5gBsZdAL6ngAG22G3Da67T1gY8CTytBL//2jFQTcY\n",
              "Xz8n2v7bugaX5IQOq7XhySWm4r9SMOPn7XAnyATkYQ8ZiPIXOlwRfOl5Ac4Mj9QyxZuMVuTlms8S\n",
              "oiKBRQAAARgBnyx0Qr8AAbCNvUsnPsACu725iGT/nGhHB5sVf7TfUbP5WaG/f14uME8bR8Cou8Bp\n",
              "zHfq9HY6syagRWk8EuSsxg1xTmNA8Bd88HDnVMN+InX2wRRb2KIJSrD+8fmQ9ZXd+kISN2URt554\n",
              "niYiOMvB6aNl1qoS4T0k9ZVmFY1YXqxpCsiWQAAC3/jvghOq6WI2fNKEKqrZGTmiyWoeO0fmnSxx\n",
              "vx5ubLEhYGVF+OQ9LXEkUo1Gy94+BPUs4nz/G5/2Ph4MORlV/m/pOT5U88NUqJFKcnnExTZxQZTc\n",
              "lJ4URZBZZfLn2A/VNdoJYwYZ3jwcQg7v/LcKFmuOlnmX8GQdQjo+Khj1hWLoJcSK9IakF/XO7p9i\n",
              "ADqhAAAA8gGfLmpCvwABsHQy0miAC6dfnvgFdGyrcGQJ1I+XwWYrsVsPyhbcMrxM+ZHDPY2PTh2v\n",
              "o6+4CnmmjoYv/FKVmhK3xonTSbLcJNGMn2qxqhQ+PuU8EZuphH9pjD6HiD0AaAWPTZZdI487zMh3\n",
              "upDi5eKv2yM6/m0UUI5XoVPzOSzxx9KxuK7O+9Yp5cUDamC6sMAlGvlJwSL4btv0RZ/3iz3R3g4S\n",
              "5JNcJhC9mYB7Kcl2eyapwtVvuu42bRo5XYEhNai7QiMy+Y1eMnVu38fBDLYMC1BgPBk+mI0GXT7X\n",
              "4BXDtEstyzSl6oxOW40d/8rYUCghAAABOEGbM0moQWiZTAhv//6nhAAB/EYZHvGw3nnSKAcDy6pc\n",
              "IvZ8jAAUTQ/t4Z/IhUWYL1n9fyJkDNBxN5NyyARZT7EF6AfyoKHp47IoQCR4/d/Mqt71zwIe8nSm\n",
              "mN5QIJg3rkOs/njMo/VpIGNyE9ekBfzAgpkdgAMl3WYqMjaeivSYGX0h0zwLqTzoCT9eRTM/1NoF\n",
              "DcnABMGc4CkpGcRgBa7vEdacuGP5rg6UD+gEsKJXGDizxWS5IA8Fd87JfbkdJYliYaatdOLrZtD0\n",
              "u+H2Fesq3E8V8c6TBa0WpkBs2gn4jrTH0gRUfHwX90cndNOR7RzQjPdgau2FI04wo+YZHRWqYrjW\n",
              "wkQvRNTGNqbm2jBfpG+S5WZHXr0v+WxqMqU84116zkCLUF61MUxjXC3xQWnFVH+byADAgAAAANdB\n",
              "n1FFESwv/wABNc5YhIAWy/p/hxjW4/I5ii39zW+t26mFKIzg/rGwqgOsuIaVmGPDBcC5E/veSCzb\n",
              "mW2apx/4tkvi57ps3tKlWV7owFlynl3/FQRHPERDnDhwgfVFzC556B3JfUfRpQr7BtTt/aKsI0r3\n",
              "440c87WiCI/gAHh9237umL3ykjb7JlF6rjCPpiXCeFaptvznkcOu6GxZ9PG7EKXxHT73HsCkyYgC\n",
              "bdKXWShX5eEb5nGTFTA209twyjqYg+GrsNlaO696Q6aaJdFoYbWa56gDZgAAALkBn3B0Qr8AAaZI\n",
              "iDAjnzqorXKsuQCcLbxyxEz5XaMJtj+zoTaZW71qKC7emUrZ1P+7Wr7FT9yqEI0/eJmawjE0rwtK\n",
              "n3e/B5TmcrtuSmio6p/MwP/CjSGCwNLdBeYGAjNwXz3v4LJptX+04rjs3ODMu4A7nvOc948B561O\n",
              "lXUAkL5aadKIS8JwQEHcGTZZSJ1dL68GLwV3TrP3B+oH+i/Sc/3ebHcn3K9zHS6IGu3p2HZAIBBx\n",
              "XNUFtQAAAOkBn3JqQr8AAaYFMCPUxZoAEBQmR58syWISrRv2JBSAdVsXFdQKVateRU0Yy5Fdsf4f\n",
              "hUZFtICHIje1aRTWOWLrjCAluFc9VNa9a/GaFXxYC86OxbZrFOrKHak+NulQsCDBD1TN5uYjlrLj\n",
              "rUrAkqyAGVso+08iJskfAiiyLrY9ljkGO8uY3gSVJi4Yzz/bwnOrP5Bg+R5ZmrltzjkG+VJbokY4\n",
              "cHei9mM1pze25BeH57USvMmhQwYKu9dwjz113BQyxFc/r6sWZK8sjFlFH7UkhowlNqQSiFrC9fm8\n",
              "FSc7FWbfpnlZu5GzfgAAARdBm3RJqEFsmUwId//+qZYAAQCgU23ww4ABANJLgTj5dDZNqVeG7im5\n",
              "mz9vxVN5Vc3Nf40cTKQq+E8Kcqmxlo/fLawbebfYbnYVOzk0pk6G62h4JxEnpB73bieOUqS5obtS\n",
              "MlWj+Z00eLit7Z8kqrM+xmuQH3iPQJ0vW1iL1HyNElTbk+Ccepl0PhNgg0rebmA/DrGSRimX/6Ox\n",
              "L0oodTmZchf/JrejB1O6fabrA78nuIfpi1nCeky4sEayQg+3psXIIq+Yps2LGn9W35DpQNTmIxAT\n",
              "bDKtMgYS9S/PsLmZghtz1Ss7bn+nQZoeifVFp1gAAkHLuthjpMWBACgIi4tNezZMUnYO7GIbVy4M\n",
              "kj4YRBPrhf91wQ8AAAGyQZuYSeEKUmUwIb/+p4QAAgy1VuwLMsKIAIfnumncuu0YYYdvt1hlePo0\n",
              "ik7nCidQMowg/RR3HwmmUbkZUw+u564JkCES5z3gpUQfowf9jxNSvMNzX79vmrOklHNBkztntdHo\n",
              "DW6VRDA7MvyszHA3F3s3iuXRvhrrGRafqZwZKjW/rMUFFhywEIrFBnSTrW9sScYWVW9ajCs0L2cz\n",
              "3XbzhIolugErNAYMozN9b+F5+rf/YWSyXy/hAs4aLXnYdTNscVOfVwUTeAbDtNpbUilKrduKe/ch\n",
              "kCTQe5hY/4NkynJ/h50R65Fq+y/ah4oG7Q1BoOnuy7viPJ3jk2lbKe5D3oE4N3bZpGXLnsYn7ztj\n",
              "Dd3QaFq92KW2JBYJHt9CN/njCGzFZg/Px0/lfCsLvrZ2z0zsb9GTbf/4520xc9ddCMQvMsut39LC\n",
              "95lOteHJ2bZh1JLhdPyWa9iM4PE6DtICP8DoB+aM02sJR7gkJbdHA/T9nzL+e1rbth9ikoCOsRsX\n",
              "atih6fh4gRAgz2PcDxtPBihpDAKGBdcB+MNl1wB72NHOGFujoJma/mevEmIK1hIt0GEAAADNQZ+2\n",
              "RTRML/8AAT5g0rnskd5HBAiCcIywQIWxewgPo27WmropkSiSBJBh2ynjXO/wJBbMtfYNiVY06D0E\n",
              "pYA++dV1dsc0p9IHuEb8q4TyGi3WELYYYLGlZVNBIi4YXsA/dwOgMvsKXPBmza2qi1L5rrfrQKEx\n",
              "S2NrpL3AfkQ3I/pQy37dsszeV+PCxOWRSnzv0uM4j+zOtOyheiwjsOslkxqGKlRj4kNdSt/BL9I/\n",
              "MIyba2Aa2PSIhAUQQqHB/4WCsLrWtPv0z6FN7ZAS8AAAAKkBn9V0Qr8AAa/+HHR7ecnKoSONFeD8\n",
              "AFsTI/0ohX4VPaFnxvc0EHmmzlqy1q25JFP3l9sMu5/nvckEcqyjj6u2Mc15aSk8eFVieyK2Cztb\n",
              "ZkGQqMRb2vP5EBY6GxBV3NzJZL2B4AOdEHKSGmfn5wUimoq7rwlTjqj939xisN5Bttwrm03c+VAC\n",
              "l6uIXYY5xZZ7B2MU87BMvIMQjKc/boIle/sbM0TSjgl5AAAAmwGf12pCvwABsLAsGDa0x+d0SAlM\n",
              "pbi6zkDl6fouuuwpGp98pT/cySApUH9kyf3vhUPxVom3fLEXE1ghPLcBD8/ALkH/WR6d7+GsGtq1\n",
              "mRhKFwJ4ABTJZGADicuqWG34BtxECy6j8ivaL3OanN4WsbMbT9pjxkTEsuaV5E7F8U1vytVPjB4D\n",
              "zLi+WsctndU6ithbUhjY75Grvt3BAAAAx0Gb3EmoQWiZTAhv//6nhAAB+9PK49RWB9AcypjgrIyp\n",
              "gAIjxmxYWAu44F3eROGXmTRbIX52c/QjOc85en7OJs9hzqViv5hYNoEBb2AdsUX635WdvCmUijkR\n",
              "vtjm7EAIvTMwsZAYzGRkZvyKsyyE+7nMM0FZISEwhvYOTh7IFzf1c7VCeBHVLac89TCCj1hvcxpI\n",
              "tRPJl+BrFFMxHGpwCnRkkqTkmhOz2xLC0IylhtqPTNecohFpsE/hq2atUrMafe139/YREpMAAAC/\n",
              "QZ/6RREsL/8AAT61XNxVW4EovHTdqAQA88uAeSotsydmH+mg/mY2w2mnNNcD0VQsULABt5cJk9Mb\n",
              "OIMDhWdJhSuW+DmRnR8QSK3zOdi/8PnM91x5///7Qh56bvOwXx3YnFF/PiBRmyhDi4dZBhbvmAta\n",
              "HayjQPxJaauw9I8i8rgNPX5oXwJHxtw+5PbeBSKV+7WQcaUMu7+RTp7LWDeFqjN5cxlw6vK0DSzM\n",
              "ZIhRZ0Dq2kOsizffOXyWEHsMPSEAAAEhAZ4ZdEK/AAGwjSR539mwTEmFAvi9A/Sy0yJACwsCrC0s\n",
              "2m27CA8Ni3orOgM6xkKzra2FnUEedHYts1inVlDtRaqhwG0kPlohgHYNytJkH+2hsxxMgaRlvVoT\n",
              "9MaMjafp4IE94gzk6hWgClkRJsO2Ak+CJNyQEhE+uJ7ATJflK5+GSUook7vydG1NXWX/kXT3sHiK\n",
              "O9KHx9PeVNXluP0OdHhnGhDggLke8vEbfVUgl5y2vrPk17PtYTP0A0tAFCIDljsVd2Ld1GcZI50A\n",
              "oYzvK3L0tjiqHWr2au+W3MxNXcY/ikbRey4YqH0fn/0yFDSN7sLolG7mZsR2XVsY6T9Zsu8Z4BxA\n",
              "Jzxz6ioX8oOc3wr5isPr3lapdkm3Jz0djPAoIAAAAUIBnhtqQr8AAbBz/XhdMR9JigCRGKNp8ZYT\n",
              "cx05fBXtRUv12Mtad9+CZUWdACFPOjsW2atuffAiCE/AO15RVbtl9G2IW6QP80ENMP7A6MNOncpr\n",
              "ilRqAzyi9Y5ITpjPuGt+jujrV4bL175lM1fXFMxfmmXrxt590z0xqfCD0mf1Q8Ky5RdJWIHTB5bj\n",
              "jtHx/0DylSe9cFX+xjekHHyZx6fLt5nYJ5O92R/aTCgpAlYRgeDrVmuU05tsz2LOa1K4Xw+vlN0B\n",
              "MdvwYFM53UW24JpkbMeY+/qkF8ks1vayN1y62Kcdw0zbR8JfqaqSdCfpkOS30ZSkpaskjT6LvWOu\n",
              "nqo9NTu9mNoS0Y+WACdMCya30f0CvfsXuH1HQJjqz61WwU49+s11RQlmjopqbDyHAgXKrywFeoAz\n",
              "OTiObCSHHU9OaCThAAAA9kGaH0moQWyZTAhn//6eEAAHws1AFY8ioxABpDABRz3/TVkA0xp1AfHd\n",
              "6/3ulYFUZbQj9ouaa26J9okARcss/6bwWhIMGpLypZl7YQe32rDutk74QDQlgfbwn9dRiWrshYhJ\n",
              "ZO/mIfbUAOIMpiYmTElFwtgKhPN4/1NS/gIboxUqJyjQkKbgOSnEz+PGoq+fEvlywetWNxc1oPDk\n",
              "dyJGti5e65nwlP72fotU6UGqryw7AEcB0QjywUQC32i3R2T1hkYBDCoa54uUz+T+buR4ngVFIQRG\n",
              "UnrDNjgKf3f/RXr8EhjkTcsvbwKrO/zYwlTr0DKw/k+M4QAAAOdBnj1FFSwr/wABsLCnyNVJ4z15\n",
              "Zz6IFypI1pQsvXMBJZ5i72/7SGfuGSz18pN/I8gg9B7mqzJ4kZhG0fRf2A7UPn8BU3N6agIlM0ig\n",
              "UNQMs7IFwXIWCALVs6hRH/2Fm25Svytox5lfG+9AhD78rFjvCMXhpi0F/oCTUHPNR5mmC67NqKBQ\n",
              "WMIqheF2byAx/JrYhp4jAJN6AW44RjlMUkvLLovk7L3fVfZLHthoisAs6y0n1ARZ6nbJZladf/B5\n",
              "SUtQrYX9og3CKOIBuYQBrZfi8ekfs+XMM9i1PYZimDGSoq9APiQlcTMAAACIAZ5eakK/AAGwcoUv\n",
              "I84LC4Zp6Gg01s/yLDmwlSGEFqZq7MxgAOMG10ARccQfubfND2t+4U15OsYXdLBq80B7Lx5FutN1\n",
              "O79crXjSmCygmdkwfreSAp6yiN8Fj4e0cktZi1bntUttll1Pw8p56Em39TZzhaZCWqCudhQU27EM\n",
              "VDMNC7jUgNAd0AAAAJxBmkJJqEFsmUwIX//+jLAAB9HUyixY33LdkBbegZgD54iFOtbfN2OgLzbR\n",
              "JhwnbqsgfwAB2cyYTXYcJ3Bjbl4P280CruMBlhmeZZt2iYf3Oqh0k12vtrVX9cjLIJ4dVX5tXIfe\n",
              "9ThLqJnFdswMjGg94xrdjNxfBvPndjfzYoGwofNZoJ3eOlj6X2sPuGEFSagda+A2hHWGsVRptx0A\n",
              "AADNQZ5gRRUsK/8AAbCwp8scJDVr5IWATt0o/+tkXoYSwRFxK9pOjRlvGoEgIAUw5V9JJE8pbfl6\n",
              "oUOFyuHT2Anick47vLBhEvDqfJWdFVRWQ6+m3y25qe+kfr+E6qpPMZVfDPcSsKTi9DqqUOnB+MbI\n",
              "2ogh/IfaKkqe85A5Jm9j63Ucwf/yd2AIOGcOo+o/ZSQxnnaMH43YqeQ64JcwKsGQPTEtVfjjjfwX\n",
              "Npq3x1huckWMFEtz7mPmrJYtWt0f0kRLmtTc3UYoVM97i84PmAAAAOYBnoFqQr8AAbByhSzej+oa\n",
              "o64lm5CojKBB59q28R1aWu8IyFjAB8GErMYNcU5jQOyeS2Q1obw/9AQSJOHtQOr0PTiCf5foJpbv\n",
              "D7C0f0UZG6x3jA7fXIs0TEvJZXwLU0Xy8bniNVnOR9QI5ZwziUlgjtthT9uis1PC7f+Zdx4/8Gks\n",
              "ueE8EVD3u+0kDI4p72OwHENscD11j+KvWGOfgtkbPqLqUG732QpueVC6R18tvtYu5LH8u/FPgWfy\n",
              "JXoI+mK9c6/lkFGkUXDan7+0AZ7Fad42QfGduVDShBsu2zFyhMC9WKBdwQAAALxBmoNJqEFsmUwI\n",
              "V//+OEAAHlUn5i3CJSAePbCd5qQ2Dt8D15FDSGZKIQgltgAA1j02H2xVV95ggppthGNy0Sqhtu3b\n",
              "TRJGKaSeXSFZ08bLYhdbA7JZhcBMH3n3QEALeEV/kTUsqVpHS4fd2YRyftTjwocsMZMBVulfVz89\n",
              "cbiO4355r1l9QkeTST3+N+7qPdrWomqpGD7SkD81x+K3UBDR98YcMRcZ/m3ydcDlSEyFidXMFUZ/\n",
              "zYnTHhwGLAAAB8ptb292AAAAbG12aGQAAAAAAAAAAAAAAAAAAAPoAAAPoAABAAABAAAAAAAAAAAA\n",
              "AAAAAQAAAAAAAAAAAAAAAAAAAAEAAAAAAAAAAAAAAAAAAEAAAAAAAAAAAAAAAAAAAAAAAAAAAAAA\n",
              "AAAAAAAAAAACAAAG9HRyYWsAAABcdGtoZAAAAAMAAAAAAAAAAAAAAAEAAAAAAAAPoAAAAAAAAAAA\n",
              "AAAAAAAAAAAAAQAAAAAAAAAAAAAAAAAAAAEAAAAAAAAAAAAAAAAAAEAAAAACgAAAAeAAAAAAACRl\n",
              "ZHRzAAAAHGVsc3QAAAAAAAAAAQAAD6AAAAQAAAEAAAAABmxtZGlhAAAAIG1kaGQAAAAAAAAAAAAA\n",
              "AAAAADIAAADIAFXEAAAAAAAtaGRscgAAAAAAAAAAdmlkZQAAAAAAAAAAAAAAAFZpZGVvSGFuZGxl\n",
              "cgAAAAYXbWluZgAAABR2bWhkAAAAAQAAAAAAAAAAAAAAJGRpbmYAAAAcZHJlZgAAAAAAAAABAAAA\n",
              "DHVybCAAAAABAAAF13N0YmwAAAC3c3RzZAAAAAAAAAABAAAAp2F2YzEAAAAAAAAAAQAAAAAAAAAA\n",
              "AAAAAAAAAAACgAHgAEgAAABIAAAAAAAAAAEAAAAAAAAAAAAAAAAAAAAAAAAAAAAAAAAAAAAAAAAA\n",
              "AAAY//8AAAA1YXZjQwFkAB7/4QAYZ2QAHqzZQKA9oQAAAwABAAADADIPFi2WAQAGaOvjyyLA/fj4\n",
              "AAAAABx1dWlka2hA8l8kT8W6OaUbzwMj8wAAAAAAAAAYc3R0cwAAAAAAAAABAAAAZAAAAgAAAAAU\n",
              "c3RzcwAAAAAAAAABAAAAAQAAAxhjdHRzAAAAAAAAAGEAAAABAAAEAAAAAAEAAAoAAAAAAQAABAAA\n",
              "AAABAAAAAAAAAAEAAAIAAAAAAQAACgAAAAABAAAEAAAAAAEAAAAAAAAAAQAAAgAAAAABAAAKAAAA\n",
              "AAEAAAQAAAAAAQAAAAAAAAABAAACAAAAAAEAAAYAAAAAAQAAAgAAAAABAAAKAAAAAAEAAAQAAAAA\n",
              "AQAAAAAAAAABAAACAAAAAAEAAAoAAAAAAQAABAAAAAABAAAAAAAAAAEAAAIAAAAAAQAACgAAAAAB\n",
              "AAAEAAAAAAEAAAAAAAAAAQAAAgAAAAABAAAKAAAAAAEAAAQAAAAAAQAAAAAAAAABAAACAAAAAAEA\n",
              "AAoAAAAAAQAABAAAAAABAAAAAAAAAAEAAAIAAAAAAQAACgAAAAABAAAEAAAAAAEAAAAAAAAAAQAA\n",
              "AgAAAAABAAAKAAAAAAEAAAQAAAAAAQAAAAAAAAABAAACAAAAAAEAAAoAAAAAAQAABAAAAAABAAAA\n",
              "AAAAAAEAAAIAAAAAAQAACAAAAAACAAACAAAAAAEAAAoAAAAAAQAABAAAAAABAAAAAAAAAAEAAAIA\n",
              "AAAAAQAACgAAAAABAAAEAAAAAAEAAAAAAAAAAQAAAgAAAAABAAAKAAAAAAEAAAQAAAAAAQAAAAAA\n",
              "AAABAAACAAAAAAEAAAoAAAAAAQAABAAAAAABAAAAAAAAAAEAAAIAAAAAAQAACgAAAAABAAAEAAAA\n",
              "AAEAAAAAAAAAAQAAAgAAAAABAAAKAAAAAAEAAAQAAAAAAQAAAAAAAAABAAACAAAAAAEAAAYAAAAA\n",
              "AQAAAgAAAAABAAAKAAAAAAEAAAQAAAAAAQAAAAAAAAABAAACAAAAAAEAAAoAAAAAAQAABAAAAAAB\n",
              "AAAAAAAAAAEAAAIAAAAAAQAABAAAAAABAAAKAAAAAAEAAAQAAAAAAQAAAAAAAAABAAACAAAAAAEA\n",
              "AAoAAAAAAQAABAAAAAABAAAAAAAAAAEAAAIAAAAAAQAACAAAAAACAAACAAAAAAEAAAgAAAAAAgAA\n",
              "AgAAAAABAAAEAAAAABxzdHNjAAAAAAAAAAEAAAABAAAAZAAAAAEAAAGkc3RzegAAAAAAAAAAAAAA\n",
              "ZAAAC4gAAAOWAAABtwAAASYAAADyAAABaAAAAQcAAAE+AAABbwAAAXMAAAEDAAAAnwAAAPgAAAHd\n",
              "AAAAzgAAAPgAAACUAAAA+gAAAPgAAAEHAAABGgAAAVUAAACeAAACNwAAAKkAAAD6AAABAAAAASAA\n",
              "AADdAAABRwAAAaAAAAG8AAABngAAANQAAAEjAAABNgAAAOoAAAE0AAAAzQAAAZcAAACoAAAA3wAA\n",
              "AM8AAACdAAABEwAAAP4AAAFrAAABGwAAAPcAAAFoAAAA+AAAAZIAAAGgAAABkAAAAVQAAAGGAAAA\n",
              "egAAAJ8AAAFMAAABNQAAAOAAAADRAAAB0wAAAM8AAAEuAAABOQAAAX0AAAD7AAABdQAAAQsAAADy\n",
              "AAAAyAAAANkAAAC6AAABOAAAAV0AAACuAAABPgAAARwAAAD2AAABPAAAANsAAAC9AAAA7QAAARsA\n",
              "AAG2AAAA0QAAAK0AAACfAAAAywAAAMMAAAElAAABRgAAAPoAAADrAAAAjAAAAKAAAADRAAAA6gAA\n",
              "AMAAAAAUc3RjbwAAAAAAAAABAAAAMAAAAGJ1ZHRhAAAAWm1ldGEAAAAAAAAAIWhkbHIAAAAAAAAA\n",
              "AG1kaXJhcHBsAAAAAAAAAAAAAAAALWlsc3QAAAAlqXRvbwAAAB1kYXRhAAAAAQAAAABMYXZmNTgu\n",
              "NzYuMTAw\n",
              "\">\n",
              "  Your browser does not support the video tag.\n",
              "</video>"
            ]
          },
          "metadata": {},
          "execution_count": 17
        },
        {
          "output_type": "display_data",
          "data": {
            "text/plain": [
              "<Figure size 640x480 with 1 Axes>"
            ],
            "image/png": "[encoded data removed]"
          },
          "metadata": {}
        }
      ],
      "source": [
        "fig, ax = plt.subplots()\n",
        "anim = splt.animator(spike_data_sample, fig, ax)\n",
        "# plt.rcParams['animation.ffmpeg_path'] = 'C:\\\\path\\\\to\\\\your\\\\ffmpeg.exe'\n",
        "\n",
        "HTML(anim.to_html5_video())"
      ]
    },
    {
      "cell_type": "code",
      "execution_count": null,
      "metadata": {
        "id": "ko8KJBCNobY4",
        "pycharm": {
          "name": "#%%\n"
        }
      },
      "outputs": [],
      "source": [
        "# If you're feeling sentimental, you can save the animation: .gif, .mp4 etc.\n",
        "anim.save(\"spike_mnist_test.mp4\")"
      ]
    },
    {
      "cell_type": "markdown",
      "metadata": {
        "id": "gu1_f0XZobY4",
        "pycharm": {
          "name": "#%% md\n"
        }
      },
      "source": [
        "The associated target label can be indexed as follows:"
      ]
    },
    {
      "cell_type": "code",
      "execution_count": null,
      "metadata": {
        "id": "7Yb76uofobY4",
        "pycharm": {
          "name": "#%%\n"
        }
      },
      "outputs": [],
      "source": [
        "print(f\"The corresponding target is: {targets_it[0]}\")"
      ]
    },
    {
      "cell_type": "markdown",
      "metadata": {
        "id": "YTRqW-wtobY5",
        "pycharm": {
          "name": "#%% md\n"
        }
      },
      "source": [
        "MNIST features a greyscale image, and the white text guarantees a 100% of spiking at every time step. So let's do that again but reduce the spiking frequency. This can be achieved by setting the argument `gain`. Here, we will reduce spiking frequency to 25%."
      ]
    },
    {
      "cell_type": "code",
      "execution_count": null,
      "metadata": {
        "id": "ymxnM4CaobY5",
        "pycharm": {
          "name": "#%%\n"
        }
      },
      "outputs": [],
      "source": [
        "spike_data = spikegen.rate(data_it, num_steps=num_steps, gain=0.25)\n",
        "\n",
        "spike_data_sample2 = spike_data[:, 0, 0]\n",
        "fig, ax = plt.subplots()\n",
        "anim = splt.animator(spike_data_sample2, fig, ax)\n",
        "HTML(anim.to_html5_video())"
      ]
    },
    {
      "cell_type": "code",
      "execution_count": null,
      "metadata": {
        "id": "dicJdyG2obY5",
        "pycharm": {
          "name": "#%%\n"
        }
      },
      "outputs": [],
      "source": [
        "# Uncomment for optional save\n",
        "# anim.save(\"spike_mnist_test2.mp4\")"
      ]
    },
    {
      "cell_type": "markdown",
      "metadata": {
        "id": "JgPZBNIaobY5"
      },
      "source": [
        "Now average the spikes out over time and reconstruct the input images."
      ]
    },
    {
      "cell_type": "code",
      "execution_count": null,
      "metadata": {
        "id": "e4ikMCQLobY6",
        "pycharm": {
          "name": "#%%\n"
        }
      },
      "outputs": [],
      "source": [
        "plt.figure(facecolor=\"w\")\n",
        "plt.subplot(1,2,1)\n",
        "plt.imshow(spike_data_sample.mean(axis=0).reshape((28,-1)).cpu(), cmap='binary')\n",
        "plt.axis('off')\n",
        "plt.title('Gain = 1')\n",
        "\n",
        "plt.subplot(1,2,2)\n",
        "plt.imshow(spike_data_sample2.mean(axis=0).reshape((28,-1)).cpu(), cmap='binary')\n",
        "plt.axis('off')\n",
        "plt.title('Gain = 0.25')\n",
        "\n",
        "plt.show()"
      ]
    },
    {
      "cell_type": "markdown",
      "metadata": {
        "id": "6bbbI1o2obY7",
        "pycharm": {
          "name": "#%% md\n"
        }
      },
      "source": [
        "The case where `gain=0.25` is lighter than where `gain=1`, as spiking probability has been reduced by a factor of $\\times 4$."
      ]
    },
    {
      "cell_type": "markdown",
      "metadata": {
        "id": "WpfpKe3zobY8",
        "pycharm": {
          "name": "#%% md\n"
        }
      },
      "source": [
        "#### 2.2.2 Raster Plots\n",
        "Alternatively, we can generate a raster plot of an input sample. This requires reshaping the sample into a 2-D tensor, where 'time' is the first dimension. Pass this sample into the function `spikeplot.raster`."
      ]
    },
    {
      "cell_type": "code",
      "execution_count": null,
      "metadata": {
        "id": "KCpsLPySobY8",
        "pycharm": {
          "name": "#%%\n"
        }
      },
      "outputs": [],
      "source": [
        "# Reshape\n",
        "spike_data_sample2 = spike_data_sample2.reshape((num_steps, -1))\n",
        "\n",
        "# raster plot\n",
        "fig = plt.figure(facecolor=\"w\", figsize=(10, 5))\n",
        "ax = fig.add_subplot(111)\n",
        "splt.raster(spike_data_sample2, ax, s=1.5, c=\"black\")\n",
        "\n",
        "plt.title(\"Input Layer\")\n",
        "plt.xlabel(\"Time step\")\n",
        "plt.ylabel(\"Neuron Number\")\n",
        "plt.show()"
      ]
    },
    {
      "cell_type": "markdown",
      "metadata": {
        "id": "WvhIdrAZobY9",
        "pycharm": {
          "name": "#%% md\n"
        }
      },
      "source": [
        "The following code snippet shows how to index into one single neuron.\n",
        "Depending on the input data, you may need to try\n",
        "a few different neurons between 0 & 784 before finding one that\n",
        "spikes."
      ]
    },
    {
      "cell_type": "code",
      "execution_count": null,
      "metadata": {
        "id": "R3kY3uoOobY9",
        "pycharm": {
          "name": "#%%\n"
        }
      },
      "outputs": [],
      "source": [
        "idx = 210  # index into 210th neuron\n",
        "\n",
        "fig = plt.figure(facecolor=\"w\", figsize=(8, 1))\n",
        "ax = fig.add_subplot(111)\n",
        "\n",
        "splt.raster(spike_data_sample.reshape(num_steps, -1)[:, idx].unsqueeze(1), ax, s=100, c=\"black\", marker=\"|\")\n",
        "\n",
        "plt.title(\"Input Neuron\")\n",
        "plt.xlabel(\"Time step\")\n",
        "plt.yticks([])\n",
        "plt.show()"
      ]
    },
    {
      "cell_type": "markdown",
      "metadata": {
        "id": "1lxp91nlobY-",
        "pycharm": {
          "name": "#%% md\n"
        }
      },
      "source": [
        "#### 2.2.3 Summary of Rate Coding\n",
        "The idea of rate coding is actually quite controversial. Although we are fairly confident rate coding takes place at our sensory periphery, we are not convinced that the cortex globally encodes information as spike rates. A couple of compelling reasons why include:\n",
        "\n",
        "*   **Power Consumption:** Nature optimised for efficiency. Multiple spikes are needed to achieve any sort of task, and each spike consumes power. In fact, [Olshausen and Field's work in \"What is the other 85% of V1 doing?\"](http://www.rctn.org/bruno/papers/V1-chapter.pdf) demonstrates that rate-coding can only explain, at most, the activity of 15% of neurons in the primary visual cortex (V1). It is unlikely to be the only mechanism within the brain, which is both resource-constrained and highly efficient.\n",
        "\n",
        "\n",
        "*   **Reaction Response Times:** We know that the reaction time of a human is roughly around 250ms. If the average firing rate of a neuron in the human brain is on the order of 10Hz, then we can only process about 2 spikes within our reaction timescale.\n",
        "\n",
        "So why, then, might we use rate codes if they are not optimal for power efficiency or latency? Even if our brain doesn't process data as a rate, we are fairly sure that our biological sensors do. The power/latency disadvantages are partially offset by showing huge noise robustness: it's fine if some of the spikes fail to generate, because there will be plenty more where they came from.\n",
        "\n",
        "Additionally, you may have heard of the [Hebbian mantra of \"neurons that fire together, wire together\"](https://doi.org/10.2307/1418888). If there is plenty of spiking, this may suggest there is plenty of learning. In some cases where training SNNs proves to be challenging, encouraging more firing via a rate code is one possible solution.\n",
        "\n",
        "Rate coding is almost certainly working in conjunction with other encoding schemes in the brain. We will consider these other encoding mechanisms in the following sections.\n",
        "This covers the `spikegen.rate` function. Further information [can be found in the documentation here](https://snntorch.readthedocs.io/en/latest/snntorch.spikegen.html).\n",
        "\n"
      ]
    },
    {
      "cell_type": "markdown",
      "metadata": {
        "id": "enzqRvuNobY-",
        "pycharm": {
          "name": "#%% md\n"
        }
      },
      "source": [
        "### 2.3 Latency Coding of MNIST\n",
        "Temporal codes capture information about the precise firing time of neurons; a single spike carries much more meaning than in rate codes which rely on firing frequency. While this opens up more susceptibility to noise, it can also decrease the power consumed by the hardware running SNN algorithms by orders of magnitude.\n",
        "\n",
        "`spikegen.latency` is a function that allows each input to fire at most **once** during the full time sweep.\n",
        "Features closer to `1` will fire earlier and features closer to `0` will fire later. I.e., in our MNIST case, bright pixels will fire earlier and dark pixels will fire later.\n",
        "\n",
        "The following block derives how this works. If you've forgotten circuit theory and/or the math means nothing to you, then don't worry! All that matters is: **big** input means **fast** spike; **small** input means **late** spike.\n"
      ]
    },
    {
      "cell_type": "markdown",
      "metadata": {
        "id": "d5yZdcX4So-W"
      },
      "source": [
        "---\n",
        "**Optional: Derivation of Latency Code Mechanism**\n",
        "\n",
        "By default, spike timing is calculated by treating the input feature as the current injection $I_{in}$ into an RC circuit. This current moves charge onto the capacitor, which increases $V(t)$. We assume that there is a trigger voltage, $V_{thr}$, which once reached, generates a spike. The question then becomes: *for a given input current (and equivalently, input feature), how long does it take for a spike to be generated?*\n",
        "\n",
        "Starting with Kirchhoff's current law, $I_{in} = I_R + I_C$, the rest of the derivation leads us to a logarithmic relationship between time and the input.\n",
        "\n",
        "<center>\n",
        "<img src='https://github.com/jeshraghian/snntorch/blob/master/docs/_static/img/examples/tutorial1/1_2_4_latencyrc.png?raw=true' width=\"600\">\n",
        "</center>\n",
        "\n",
        "---"
      ]
    },
    {
      "cell_type": "markdown",
      "metadata": {
        "id": "DqJlK7AhjGHw"
      },
      "source": [
        "The following function uses the above result to convert a feature of intensity $X_{ij}\\in [0,1]$ into a latency coded response $L_{ij}$."
      ]
    },
    {
      "cell_type": "code",
      "execution_count": null,
      "metadata": {
        "id": "J06UgGHKTkea"
      },
      "outputs": [],
      "source": [
        "def convert_to_time(data, tau=5, threshold=0.01):\n",
        "  spike_time = tau * torch.log(data / (data - threshold))\n",
        "  return spike_time"
      ]
    },
    {
      "cell_type": "markdown",
      "metadata": {
        "id": "voBg5kujkGFQ"
      },
      "source": [
        "Now, use the above function to visualize the relationship between input feature intensity and its corresponding spike time.\n"
      ]
    },
    {
      "cell_type": "code",
      "execution_count": null,
      "metadata": {
        "id": "52PwqfpKkK-I"
      },
      "outputs": [],
      "source": [
        "raw_input = torch.arange(0, 5, 0.05) # tensor from 0 to 5\n",
        "spike_times = convert_to_time(raw_input)\n",
        "\n",
        "plt.plot(raw_input, spike_times)\n",
        "plt.xlabel('Input Value')\n",
        "plt.ylabel('Spike Time (s)')\n",
        "plt.show()"
      ]
    },
    {
      "cell_type": "markdown",
      "metadata": {
        "id": "P972FBhmluv3"
      },
      "source": [
        "The smaller the value, the later the spike occurs with exponential dependence.\n",
        "\n",
        "The vector `spike_times` contains the time at which spikes are triggered, rather than a sparse tensor that contains the spikes themselves (1's and 0's).\n",
        "When running an SNN simulation, we need the 1/0 representation to obtain all of the advantages of using spikes.\n",
        "This whole process can be automated using `spikegen.latency`, where we pass a minibatch from the MNIST dataset in `data_it`:"
      ]
    },
    {
      "cell_type": "code",
      "execution_count": null,
      "metadata": {
        "id": "m835u23QobY-",
        "pycharm": {
          "name": "#%%\n"
        }
      },
      "outputs": [],
      "source": [
        "spike_data = spikegen.latency(data_it, num_steps=100, tau=5, threshold=0.01)"
      ]
    },
    {
      "cell_type": "markdown",
      "metadata": {
        "id": "AKDPjTvKobY_",
        "pycharm": {
          "name": "#%% md\n"
        }
      },
      "source": [
        "Some of the arguments include:\n",
        "\n",
        "* `tau`:  the RC time constant of the circuit. By default, the input features are treated as a constant current injected into an RC circuit. A higher ``tau`` will induce slower firing.\n",
        "* `threshold`: the membrane potential firing threshold. Input values below this threshold do not have a closed-form solution, as the input current is insufficient to drive the membrane up to the threshold. All values below the threshold are clipped and assigned to the final time step."
      ]
    },
    {
      "cell_type": "markdown",
      "metadata": {
        "id": "VGH7b49SobY_",
        "pycharm": {
          "name": "#%% md\n"
        }
      },
      "source": [
        "#### 2.3.1 Raster plot"
      ]
    },
    {
      "cell_type": "code",
      "execution_count": null,
      "metadata": {
        "id": "kypMtfF7obY_",
        "pycharm": {
          "name": "#%%\n"
        }
      },
      "outputs": [],
      "source": [
        "fig = plt.figure(facecolor=\"w\", figsize=(10, 5))\n",
        "ax = fig.add_subplot(111)\n",
        "splt.raster(spike_data[:, 0].view(num_steps, -1), ax, s=25, c=\"black\")\n",
        "\n",
        "plt.title(\"Input Layer\")\n",
        "plt.xlabel(\"Time step\")\n",
        "plt.ylabel(\"Neuron Number\")\n",
        "plt.show()\n",
        "\n",
        "# optional save\n",
        "# fig.savefig('destination_path.png', format='png', dpi=300)"
      ]
    },
    {
      "cell_type": "markdown",
      "metadata": {
        "id": "Hm1--DHYobZA",
        "pycharm": {
          "name": "#%% md\n"
        }
      },
      "source": [
        "To make sense of the raster plot, note that high intensity features fire first, whereas low intensity features fire last:\n",
        "\n",
        "<center>\n",
        "<img src='https://github.com/jeshraghian/snntorch/blob/master/docs/_static/img/examples/tutorial1/1_2_5_latencyraster.png?raw=true' width=\"800\">\n",
        "</center>\n",
        "\n",
        "The logarithmic code coupled with the lack of diverse input values (i.e., the lack of midtone/grayscale features) causes significant clustering in two areas of the plot.\n",
        "The bright pixels induce firing at the start of the run, and the dark pixels at the end.\n",
        "We can increase `tau` to slow down the spike times, or linearize the spike times by setting the optional argument `linear=True`."
      ]
    },
    {
      "cell_type": "code",
      "execution_count": null,
      "metadata": {
        "id": "ZX8azDNWobZA",
        "pycharm": {
          "name": "#%%\n"
        }
      },
      "outputs": [],
      "source": [
        "spike_data = spikegen.latency(data_it, num_steps=100, tau=5, threshold=0.01, linear=True)\n",
        "\n",
        "fig = plt.figure(facecolor=\"w\", figsize=(10, 5))\n",
        "ax = fig.add_subplot(111)\n",
        "splt.raster(spike_data[:, 0].view(num_steps, -1), ax, s=25, c=\"black\")\n",
        "plt.title(\"Input Layer\")\n",
        "plt.xlabel(\"Time step\")\n",
        "plt.ylabel(\"Neuron Number\")\n",
        "plt.show()"
      ]
    },
    {
      "cell_type": "markdown",
      "metadata": {
        "id": "pZuk6g3NobZB",
        "pycharm": {
          "name": "#%% md\n"
        }
      },
      "source": [
        "The spread of firing times is much more evenly distributed now. This is achieved by linearizing the logarithmic equation according to the rules shown below. Unlike the RC model, there is no physical basis for the model. It's just simpler.\n",
        "\n",
        "<center>\n",
        "<img src='https://github.com/jeshraghian/snntorch/blob/master/docs/_static/img/examples/tutorial1/1_2_6_latencylinear.png?raw=true' width=\"600\">\n",
        "</center>\n",
        "\n",
        "\n",
        "But note how all firing occurs within the first ~5 time steps, whereas the simulation range is 100 time steps.\n",
        "This indicates that we have a lot of redundant time steps doing nothing. This can be solved by either increasing `tau` to slow down the time constant, or setting the optional argument `normalize=True` to span the full range of `num_steps`."
      ]
    },
    {
      "cell_type": "code",
      "execution_count": null,
      "metadata": {
        "id": "RLgntdwSobZB",
        "pycharm": {
          "name": "#%%\n"
        }
      },
      "outputs": [],
      "source": [
        "spike_data = spikegen.latency(data_it, num_steps=100, tau=5, threshold=0.01,\n",
        "                              normalize=True, linear=True)\n",
        "\n",
        "fig = plt.figure(facecolor=\"w\", figsize=(10, 5))\n",
        "ax = fig.add_subplot(111)\n",
        "splt.raster(spike_data[:, 0].view(num_steps, -1), ax, s=25, c=\"black\")\n",
        "\n",
        "plt.title(\"Input Layer\")\n",
        "plt.xlabel(\"Time step\")\n",
        "plt.ylabel(\"Neuron Number\")\n",
        "plt.show()"
      ]
    },
    {
      "cell_type": "markdown",
      "metadata": {
        "id": "1EFIqaylobZC",
        "pycharm": {
          "name": "#%% md\n"
        }
      },
      "source": [
        "One major advantage of latency coding over rate coding is sparsity. If neurons are constrained to firing a maximum of once over the time course of interest, then this promotes low-power operation.\n",
        "\n",
        "In the scenario shown above, a majority of the spikes occur at the final time step, where the input features fall below the threshold. In a sense, the dark background of the MNIST sample holds no useful information.\n",
        "\n",
        "We can remove these redundant features by setting `clip=True`."
      ]
    },
    {
      "cell_type": "code",
      "execution_count": null,
      "metadata": {
        "id": "uowgb4FPobZC",
        "pycharm": {
          "name": "#%%\n"
        }
      },
      "outputs": [],
      "source": [
        "spike_data = spikegen.latency(data_it, num_steps=100, tau=5, threshold=0.01,\n",
        "                              clip=True, normalize=True, linear=True)\n",
        "\n",
        "fig = plt.figure(facecolor=\"w\", figsize=(10, 5))\n",
        "ax = fig.add_subplot(111)\n",
        "splt.raster(spike_data[:, 0].view(num_steps, -1), ax, s=25, c=\"black\")\n",
        "\n",
        "plt.title(\"Input Layer\")\n",
        "plt.xlabel(\"Time step\")\n",
        "plt.ylabel(\"Neuron Number\")\n",
        "plt.show()"
      ]
    },
    {
      "cell_type": "markdown",
      "metadata": {
        "id": "W7gN02QOobZC",
        "pycharm": {
          "name": "#%% md\n"
        }
      },
      "source": [
        "That looks much better!"
      ]
    },
    {
      "cell_type": "markdown",
      "metadata": {
        "id": "XG9erdfxobZD",
        "pycharm": {
          "name": "#%% md\n"
        }
      },
      "source": [
        "#### 2.3.2 Animation\n",
        "We will run the exact same code block as before to create an animation."
      ]
    },
    {
      "cell_type": "code",
      "execution_count": null,
      "metadata": {
        "id": "BjLC1Pl_obZD",
        "pycharm": {
          "name": "#%%\n"
        }
      },
      "outputs": [],
      "source": [
        "spike_data_sample = spike_data[:, 0, 0]\n",
        "print(spike_data_sample.size())"
      ]
    },
    {
      "cell_type": "code",
      "execution_count": null,
      "metadata": {
        "id": "uwVwMVpzobZD",
        "pycharm": {
          "name": "#%%\n"
        }
      },
      "outputs": [],
      "source": [
        "fig, ax = plt.subplots()\n",
        "anim = splt.animator(spike_data_sample, fig, ax)\n",
        "\n",
        "HTML(anim.to_html5_video())"
      ]
    },
    {
      "cell_type": "markdown",
      "metadata": {
        "id": "FONW5DIkobZE",
        "pycharm": {
          "name": "#%% md\n"
        }
      },
      "source": [
        "This animation is obviously much tougher to make out in video form, but a keen eye will be able to catch a glimpse of the initial frame where most of the spikes occur.\n",
        "Index into the corresponding target value to check its value."
      ]
    },
    {
      "cell_type": "code",
      "execution_count": null,
      "metadata": {
        "id": "VgNLaB90obZD",
        "pycharm": {
          "name": "#%%\n"
        }
      },
      "outputs": [],
      "source": [
        "# Save output: .gif, .mp4 etc.\n",
        "# anim.save(\"mnist_latency.gif\")"
      ]
    },
    {
      "cell_type": "code",
      "execution_count": null,
      "metadata": {
        "id": "wrqfPu43obZE",
        "pycharm": {
          "name": "#%%\n"
        }
      },
      "outputs": [],
      "source": [
        "print(targets_it[0])"
      ]
    },
    {
      "cell_type": "markdown",
      "metadata": {
        "id": "sl93G7LwnG67"
      },
      "source": [
        "That's it for the `spikegen.latency` function. Further information [can be found in the documentation here](https://snntorch.readthedocs.io/en/latest/snntorch.spikegen.html)."
      ]
    },
    {
      "cell_type": "markdown",
      "metadata": {
        "id": "Uxe0msNpmpcN"
      },
      "source": [
        "### 2.4 Delta Modulation\n",
        "There are theories that the retina is adaptive: it will only process information when there is something new to process. If there is no change in your field of view, then your photoreceptor cells are  less prone to firing.\n",
        "\n",
        "That is to say: **biology is event-driven**. Neurons thrive on change.\n",
        "\n",
        "As a nifty example, a few researchers have dedicated their lives to designing retina-inspired image sensors, for example, the [Dynamic Vision Sensor](https://ieeexplore.ieee.org/abstract/document/7128412/). Although [the attached link is from over a decade ago, the work in this video](https://www.youtube.com/watch?v=6eOM15U_t1M&ab_channel=TobiDelbruck) was ahead of its time.\n",
        "\n",
        "Delta modulation is based on event-driven spiking. The `snntorch.delta` function accepts a time-series tensor as input. It takes the difference between each subsequent feature across all time steps. By default, if the difference is both *positive* and *greater than the threshold $V_{thr}$*, a spike is generated:\n",
        "\n",
        "<center>\n",
        "<img src='https://github.com/jeshraghian/snntorch/blob/master/docs/_static/img/examples/tutorial1/1_2_7_delta.png?raw=true' width=\"600\">\n",
        "</center>\n",
        "\n",
        "To illustrate, let's first come up with a contrived example where we create our own input tensor."
      ]
    },
    {
      "cell_type": "code",
      "execution_count": 18,
      "metadata": {
        "id": "0AOr1kN-r4n-",
        "colab": {
          "base_uri": "https://localhost:8080/",
          "height": 472
        },
        "outputId": "9aa717c6-0bd0-4909-a9c3-57ecbf804d2d"
      },
      "outputs": [
        {
          "output_type": "display_data",
          "data": {
            "text/plain": [
              "<Figure size 640x480 with 1 Axes>"
            ],
            "image/png": "[encoded data removed]"
          },
          "metadata": {}
        }
      ],
      "source": [
        "# Create a tensor with some fake time-series data\n",
        "data = torch.Tensor([0, 1, 0, 2, 8, -20, 20, -5, 0, 1, 0])\n",
        "\n",
        "# Plot the tensor\n",
        "plt.plot(data)\n",
        "\n",
        "plt.title(\"Some fake time-series data\")\n",
        "plt.xlabel(\"Time step\")\n",
        "plt.ylabel(\"Voltage (mV)\")\n",
        "plt.show()"
      ]
    },
    {
      "cell_type": "markdown",
      "metadata": {
        "id": "Ih_UJ526tJPo"
      },
      "source": [
        "Pass the above tensor into the `spikegen.delta` function, with an arbitrarily selected `threshold=4`:"
      ]
    },
    {
      "cell_type": "code",
      "execution_count": 19,
      "metadata": {
        "id": "WSNI1zGdtHac",
        "colab": {
          "base_uri": "https://localhost:8080/",
          "height": 179
        },
        "outputId": "aa270e2b-b09b-4349-8928-198f3cae6e24"
      },
      "outputs": [
        {
          "output_type": "display_data",
          "data": {
            "text/plain": [
              "<Figure size 800x100 with 1 Axes>"
            ],
            "image/png": "[encoded data removed]"
          },
          "metadata": {}
        }
      ],
      "source": [
        "# Convert data\n",
        "spike_data = spikegen.delta(data, threshold=4)\n",
        "\n",
        "# Create fig, ax\n",
        "fig = plt.figure(facecolor=\"w\", figsize=(8, 1))\n",
        "ax = fig.add_subplot(111)\n",
        "\n",
        "# Raster plot of delta converted data\n",
        "splt.raster(spike_data, ax, c=\"black\")\n",
        "\n",
        "plt.title(\"Input Neuron\")\n",
        "plt.xlabel(\"Time step\")\n",
        "plt.yticks([])\n",
        "plt.xlim(0, len(data))\n",
        "plt.show()"
      ]
    },
    {
      "cell_type": "markdown",
      "metadata": {
        "id": "dlmCwN40uPLq"
      },
      "source": [
        "There are three time steps where the difference between $data[T]$ and $data[T+1]$ is greater than or equal to $V_{thr}=4$. This means there are three *on-spikes*.\n",
        "\n",
        "The large dip to $-20$ has not been captured above. If negative swings have importance in your data, you can enable the optional argument `off_spike=True`."
      ]
    },
    {
      "cell_type": "code",
      "execution_count": 20,
      "metadata": {
        "id": "WMrUGhRnuN8e",
        "colab": {
          "base_uri": "https://localhost:8080/",
          "height": 179
        },
        "outputId": "604b7f84-bbef-4312-f2f8-1b736bf10608"
      },
      "outputs": [
        {
          "output_type": "display_data",
          "data": {
            "text/plain": [
              "<Figure size 800x100 with 1 Axes>"
            ],
            "image/png": "[encoded data removed]"
          },
          "metadata": {}
        }
      ],
      "source": [
        "# Convert data\n",
        "spike_data = spikegen.delta(data, threshold=4, off_spike=True)\n",
        "\n",
        "# Create fig, ax\n",
        "fig = plt.figure(facecolor=\"w\", figsize=(8, 1))\n",
        "ax = fig.add_subplot(111)\n",
        "\n",
        "# Raster plot of delta converted data\n",
        "splt.raster(spike_data, ax, c=\"black\")\n",
        "\n",
        "plt.title(\"Input Neuron\")\n",
        "plt.xlabel(\"Time step\")\n",
        "plt.yticks([])\n",
        "plt.xlim(0, len(data))\n",
        "plt.show()"
      ]
    },
    {
      "cell_type": "markdown",
      "metadata": {
        "id": "S_5FajsDvnEw"
      },
      "source": [
        "We've generated additional spikes, but this isn't actually the full picture!\n",
        "\n",
        "Printing out the tensor will show the presence of \"off-spikes\" which take on a value of `-1`."
      ]
    },
    {
      "cell_type": "code",
      "execution_count": 21,
      "metadata": {
        "id": "9deHKE2zxGA5",
        "colab": {
          "base_uri": "https://localhost:8080/"
        },
        "outputId": "d3d02c96-d2ec-4fd9-9b91-0dc9b497ab67"
      },
      "outputs": [
        {
          "output_type": "stream",
          "name": "stdout",
          "text": [
            "tensor([ 0.,  0.,  0.,  0.,  1., -1.,  1., -1.,  1.,  0.,  0.])\n"
          ]
        }
      ],
      "source": [
        "print(spike_data)"
      ]
    },
    {
      "cell_type": "markdown",
      "metadata": {
        "id": "-Nz32V0fxm2d"
      },
      "source": [
        "While `spikegen.delta` has only been demonstrated on a fake sample of data, its true use is to compress time-series data by only generating spikes for sufficiently large changes/events.\n",
        "\n",
        "That wraps up the three main spike conversion functions! There are still additional features to each of the three conversion techniques that have not been detailed in this tutorial. In particular, we have only looked at encoding input data; we have not considered how we might encode targets, and when that is necessary. We recommend [referring to the documentation for a deeper dive](https://snntorch.readthedocs.io/en/latest/snntorch.spikegen.html)."
      ]
    },
    {
      "cell_type": "markdown",
      "metadata": {
        "id": "mxrGoLIjobZE",
        "pycharm": {
          "name": "#%% md\n"
        }
      },
      "source": [
        "## 3. Spike Generation (Optional)\n",
        "Now what if we don't actually have any data to start with?\n",
        "Say we just want a randomly generated spike train from scratch. Inside of\n",
        "`spikegen.rate` is a nested function, `rate_conv`, which actually performs the  spike conversion step.\n",
        "\n",
        "All we have to do is initialize a randomly generated `torchTensor` to pass in."
      ]
    },
    {
      "cell_type": "code",
      "execution_count": null,
      "metadata": {
        "id": "-Q_7uj0vobZE",
        "pycharm": {
          "name": "#%%\n"
        }
      },
      "outputs": [],
      "source": [
        "# Create a random spike train\n",
        "spike_prob = torch.rand((num_steps, 28, 28), dtype=dtype) * 0.5\n",
        "spike_rand = spikegen.rate_conv(spike_prob)"
      ]
    },
    {
      "cell_type": "markdown",
      "metadata": {
        "id": "KOy-NZ5YobZF",
        "pycharm": {
          "name": "#%% md\n"
        }
      },
      "source": [
        "### 3.1 Animation"
      ]
    },
    {
      "cell_type": "code",
      "execution_count": null,
      "metadata": {
        "id": "yCIwKN0WobZF",
        "pycharm": {
          "name": "#%%\n"
        }
      },
      "outputs": [],
      "source": [
        "fig, ax = plt.subplots()\n",
        "anim = splt.animator(spike_rand, fig, ax)\n",
        "\n",
        "HTML(anim.to_html5_video())"
      ]
    },
    {
      "cell_type": "code",
      "execution_count": null,
      "metadata": {
        "id": "kx-VKWxFobZF",
        "pycharm": {
          "name": "#%%\n"
        }
      },
      "outputs": [],
      "source": [
        "# Save output: .gif, .mp4 etc.\n",
        "# anim.save(\"random_spikes.gif\")"
      ]
    },
    {
      "cell_type": "markdown",
      "metadata": {
        "id": "C_IH912xobZF",
        "pycharm": {
          "name": "#%% md\n"
        }
      },
      "source": [
        "### 3.2 Raster"
      ]
    },
    {
      "cell_type": "code",
      "execution_count": null,
      "metadata": {
        "id": "F6QgcKCrobZF",
        "pycharm": {
          "name": "#%%\n"
        }
      },
      "outputs": [],
      "source": [
        "fig = plt.figure(facecolor=\"w\", figsize=(10, 5))\n",
        "ax = fig.add_subplot(111)\n",
        "splt.raster(spike_rand[:, 0].view(num_steps, -1), ax, s=25, c=\"black\")\n",
        "\n",
        "plt.title(\"Input Layer\")\n",
        "plt.xlabel(\"Time step\")\n",
        "plt.ylabel(\"Neuron Number\")\n",
        "plt.show()"
      ]
    },
    {
      "cell_type": "markdown",
      "metadata": {
        "id": "QwEXpWkRy8_N"
      },
      "source": [
        "# Conclusion"
      ]
    },
    {
      "cell_type": "markdown",
      "metadata": {
        "id": "N-SsITWKobZF",
        "pycharm": {
          "name": "#%% md\n"
        }
      },
      "source": [
        "That's it for spike conversion and generation.\n",
        "This approach generalizes beyond images, to single-dimensional and multi-dimensional tensors.\n",
        "\n",
        "For reference, the documentation for [`spikegen` can be found here](https://snntorch.readthedocs.io/en/latest/snntorch.spikegen.html) and for [`spikeplot`, here](https://snntorch.readthedocs.io/en/latest/snntorch.spikeplot.html)\n",
        "\n",
        "[In the next tutorial](https://snntorch.readthedocs.io/en/latest/tutorials/index.html), you will learn the basics of spiking neurons and how to use them.\n",
        "\n",
        "If you like this project, please consider starring ⭐ the repo on GitHub as it is the easiest and best way to support it."
      ]
    },
    {
      "cell_type": "markdown",
      "metadata": {
        "id": "YY58zvYTlSKA"
      },
      "source": [
        "# Additional Resources\n",
        "\n",
        "* [Check out the snnTorch GitHub project here.](https://github.com/jeshraghian/snntorch)"
      ]
    },
    {
      "cell_type": "code",
      "source": [
        "import torch\n",
        "import numpy as np\n",
        "import matplotlib.pyplot as plt\n",
        "import snntorch.spikeplot as splt\n",
        "from scipy import stats\n",
        "\n",
        "def generate_powerlaw_timeseries(length=100, alpha=2.0, scale=10.0, add_noise=True):\n",
        "    \"\"\"\n",
        "    Generate time-series data following power-law distribution for criticality\n",
        "\n",
        "    Args:\n",
        "        length: Number of time steps\n",
        "        alpha: Power-law exponent (1.5-3.0 for criticality)\n",
        "        scale: Scaling factor for amplitude\n",
        "        add_noise: Whether to add small amount of noise\n",
        "\n",
        "    Returns:\n",
        "        torch.Tensor: Time series with power-law distributed values\n",
        "    \"\"\"\n",
        "\n",
        "    # Method 1: Direct power-law generation using Pareto distribution\n",
        "    # Pareto: f(x) = α * x_m^α / x^(α+1) for x >= x_m\n",
        "    x_min = 0.1  # Minimum value\n",
        "\n",
        "    # Generate power-law distributed samples\n",
        "    u = np.random.uniform(0, 1, length)\n",
        "    powerlaw_samples = x_min * ((1 - u) ** (-1/alpha))\n",
        "\n",
        "    # Apply random signs to create both positive and negative values\n",
        "    signs = np.random.choice([-1, 1], size=length, p=[0.3, 0.7])  # Slightly more positive\n",
        "    powerlaw_samples = powerlaw_samples * signs\n",
        "\n",
        "    # Scale to desired range\n",
        "    powerlaw_samples = powerlaw_samples * scale / np.max(np.abs(powerlaw_samples))\n",
        "\n",
        "    # Add small amount of temporal correlation (critical systems have memory)\n",
        "    if length > 1:\n",
        "        # Apply simple temporal smoothing to create correlations\n",
        "        kernel = np.array([0.1, 0.8, 0.1])  # Simple smoothing kernel\n",
        "        padded = np.pad(powerlaw_samples, (1, 1), mode='edge')\n",
        "        smoothed = np.convolve(padded, kernel, mode='valid')\n",
        "        powerlaw_samples = 0.7 * powerlaw_samples + 0.3 * smoothed\n",
        "\n",
        "    # Add small noise if requested\n",
        "    if add_noise:\n",
        "        noise = np.random.normal(0, 0.1, length)\n",
        "        powerlaw_samples += noise\n",
        "\n",
        "    return torch.Tensor(powerlaw_samples)"
      ],
      "metadata": {
        "id": "nA3gx6Ddw6XD"
      },
      "execution_count": 22,
      "outputs": []
    },
    {
      "cell_type": "code",
      "source": [
        "# ORIGINAL (simple fake data):\n",
        "data = torch.Tensor([0, 1, 0, 2, 8, -20, 20, -5, 0, 1, 0])\n",
        "\n",
        "# NEW (power-law critical data):\n",
        "data = generate_powerlaw_timeseries(length=50, alpha=2.0, scale=20)"
      ],
      "metadata": {
        "id": "B71oyHASw84J"
      },
      "execution_count": 23,
      "outputs": []
    },
    {
      "cell_type": "code",
      "source": [
        "def generate_critical_avalanche_data(length=50, alpha=1.8):\n",
        "    \"\"\"\n",
        "    Generate data resembling neural avalanches (critical brain dynamics)\n",
        "    \"\"\"\n",
        "    # Start with power-law distributed avalanche sizes\n",
        "    u = np.random.uniform(0, 1, length//3)  # Fewer avalanches than time steps\n",
        "    avalanche_sizes = ((1 - u) ** (-1/alpha)) * 5  # Scale avalanches\n",
        "\n",
        "    # Create time series by placing avalanches randomly\n",
        "    data = np.zeros(length)\n",
        "    avalanche_times = np.random.randint(0, length-5, len(avalanche_sizes))\n",
        "\n",
        "    for i, (time, size) in enumerate(zip(avalanche_times, avalanche_sizes)):\n",
        "        # Create avalanche shape (rise and fall)\n",
        "        duration = min(int(size/2) + 1, 8)  # Limit duration\n",
        "        if time + duration < length:\n",
        "            # Exponential rise and fall\n",
        "            t = np.arange(duration)\n",
        "            avalanche_shape = size * np.exp(-t/2) * np.sin(np.pi * t / duration)**2\n",
        "            data[time:time+duration] += avalanche_shape\n",
        "\n",
        "    # Add some negative excursions (inhibitory events)\n",
        "    neg_times = np.random.randint(0, length, length//8)\n",
        "    for t in neg_times:\n",
        "        if t < length:\n",
        "            data[t] -= np.random.exponential(3)\n",
        "\n",
        "    return torch.Tensor(data)\n",
        "\n",
        "# ========== GENERATE POWER-LAW DATA ==========\n",
        "print(\"Generating power-law distributed time-series data for criticality...\")\n",
        "\n",
        "# Generate multiple examples with different alpha values\n",
        "alphas = [1.5, 2.0, 2.5]  # Different criticality regimes\n",
        "data_length = 50\n",
        "\n",
        "fig, axes = plt.subplots(len(alphas), 3, figsize=(15, 10))\n",
        "\n",
        "for i, alpha in enumerate(alphas):\n",
        "\n",
        "    # ========== GENERATE DATA ==========\n",
        "    data = generate_powerlaw_timeseries(length=data_length, alpha=alpha, scale=20)\n",
        "\n",
        "    print(f\"\\nAlpha = {alpha}:\")\n",
        "    print(f\"Data range: [{data.min():.2f}, {data.max():.2f}]\")\n",
        "    print(f\"Mean: {data.mean():.2f}, Std: {data.std():.2f}\")\n",
        "\n",
        "    # ========== PLOT ORIGINAL DATA ==========\n",
        "    axes[i, 0].plot(data, 'b-', linewidth=2)\n",
        "    axes[i, 0].set_title(f\"Power-law Time Series (α={alpha})\")\n",
        "    axes[i, 0].set_xlabel(\"Time step\")\n",
        "    axes[i, 0].set_ylabel(\"Voltage (mV)\")\n",
        "    axes[i, 0].grid(True, alpha=0.3)\n",
        "\n",
        "    # ========== DELTA CODING WITHOUT OFF-SPIKES ==========\n",
        "    spike_data_on = spikegen.delta(data, threshold=4)\n",
        "\n",
        "    axes[i, 1].eventplot([torch.where(spike_data_on)[0].numpy()],\n",
        "                        colors='red', linewidths=2)\n",
        "    axes[i, 1].set_title(f\"Delta Spikes (ON only, α={alpha})\")\n",
        "    axes[i, 1].set_xlabel(\"Time step\")\n",
        "    axes[i, 1].set_xlim(0, len(data))\n",
        "    axes[i, 1].set_ylim(-0.5, 1.5)\n",
        "    axes[i, 1].set_yticks([])\n",
        "\n",
        "    # ========== DELTA CODING WITH OFF-SPIKES ==========\n",
        "    spike_data_both = spikegen.delta(data, threshold=4, off_spike=True)\n",
        "\n",
        "    # Separate ON and OFF spikes for visualization\n",
        "    on_spikes = torch.where(spike_data_both == 1)[0].numpy()\n",
        "    off_spikes = torch.where(spike_data_both == -1)[0].numpy()\n",
        "\n",
        "    if len(on_spikes) > 0:\n",
        "        axes[i, 2].eventplot([on_spikes], colors='red', linewidths=2,\n",
        "                            linelengths=0.8, label='ON spikes')\n",
        "    if len(off_spikes) > 0:\n",
        "        axes[i, 2].eventplot([off_spikes], colors='blue', linewidths=2,\n",
        "                            linelengths=0.8, lineoffsets=0.3, label='OFF spikes')\n",
        "\n",
        "    axes[i, 2].set_title(f\"Delta Spikes (ON+OFF, α={alpha})\")\n",
        "    axes[i, 2].set_xlabel(\"Time step\")\n",
        "    axes[i, 2].set_xlim(0, len(data))\n",
        "    axes[i, 2].set_ylim(-0.2, 1.2)\n",
        "    axes[i, 2].set_yticks([])\n",
        "    if i == 0:  # Only show legend on first subplot\n",
        "        axes[i, 2].legend()\n",
        "\n",
        "    # Print spike statistics\n",
        "    print(f\"ON spikes: {len(on_spikes)}, OFF spikes: {len(off_spikes)}\")\n",
        "    print(f\"Total spikes: {len(on_spikes) + len(off_spikes)}\")\n",
        "    print(f\"Spike rate: {(len(on_spikes) + len(off_spikes))/len(data)*100:.1f}%\")\n",
        "\n",
        "plt.tight_layout()\n",
        "plt.show()\n",
        "\n",
        "# ========== CRITICAL AVALANCHE EXAMPLE ==========\n",
        "print(\"\\n\" + \"=\"*50)\n",
        "print(\"NEURAL AVALANCHE DATA (Critical Brain Dynamics)\")\n",
        "print(\"=\"*50)\n",
        "\n",
        "# Generate avalanche-like data\n",
        "avalanche_data = generate_critical_avalanche_data(length=60, alpha=1.8)\n",
        "\n",
        "fig, axes = plt.subplots(2, 2, figsize=(12, 8))\n",
        "\n",
        "# Plot original avalanche data\n",
        "axes[0, 0].plot(avalanche_data, 'g-', linewidth=2)\n",
        "axes[0, 0].set_title(\"Neural Avalanche Time Series (α=1.8)\")\n",
        "axes[0, 0].set_xlabel(\"Time step\")\n",
        "axes[0, 0].set_ylabel(\"Neural Activity\")\n",
        "axes[0, 0].grid(True, alpha=0.3)\n",
        "\n",
        "# Delta coding of avalanche data\n",
        "avalanche_spikes = spikegen.delta(avalanche_data, threshold=2, off_spike=True)\n",
        "\n",
        "# Plot delta spikes\n",
        "on_av = torch.where(avalanche_spikes == 1)[0].numpy()\n",
        "off_av = torch.where(avalanche_spikes == -1)[0].numpy()\n",
        "\n",
        "if len(on_av) > 0:\n",
        "    axes[0, 1].eventplot([on_av], colors='green', linewidths=3)\n",
        "if len(off_av) > 0:\n",
        "    axes[0, 1].eventplot([off_av], colors='orange', linewidths=3, lineoffsets=0.3)\n",
        "\n",
        "axes[0, 1].set_title(\"Avalanche Delta Spikes\")\n",
        "axes[0, 1].set_xlabel(\"Time step\")\n",
        "axes[0, 1].set_xlim(0, len(avalanche_data))\n",
        "axes[0, 1].set_yticks([])\n",
        "\n",
        "# ========== POWER-LAW VERIFICATION ==========\n",
        "# Verify that our data follows power-law distribution\n",
        "all_amplitudes = []\n",
        "for alpha in alphas:\n",
        "    data = generate_powerlaw_timeseries(length=1000, alpha=alpha, scale=20)\n",
        "    all_amplitudes.extend(np.abs(data[data != 0]))  # Non-zero values\n",
        "\n",
        "# Plot distribution\n",
        "axes[1, 0].hist(all_amplitudes, bins=50, density=True, alpha=0.7,\n",
        "               log=True, label='Generated Data')\n",
        "axes[1, 0].set_xlabel('Amplitude')\n",
        "axes[1, 0].set_ylabel('Density (log scale)')\n",
        "axes[1, 0].set_title('Power-law Distribution Verification')\n",
        "axes[1, 0].set_xscale('log')\n",
        "axes[1, 0].grid(True, alpha=0.3)\n",
        "\n",
        "# Fit power-law and plot\n",
        "x_fit = np.logspace(0, 2, 100)\n",
        "y_fit = x_fit**(-2.0)  # Example power-law\n",
        "y_fit = y_fit / np.trapezoid(y_fit, x_fit)  # Normalize\n",
        "axes[1, 0].plot(x_fit, y_fit, 'r--', linewidth=2, label='Power-law α=2.0')\n",
        "axes[1, 0].legend()\n",
        "\n",
        "# ========== CRITICALITY METRICS ==========\n",
        "# Calculate some measures of criticality\n",
        "def calculate_criticality_metrics(data):\n",
        "    \"\"\"Calculate metrics that indicate critical dynamics\"\"\"\n",
        "\n",
        "    # 1. Long-range temporal correlations (Hurst exponent approximation)\n",
        "    def hurst_exponent(ts):\n",
        "        \"\"\"Simplified Hurst exponent calculation\"\"\"\n",
        "        lags = range(2, min(100, len(ts)//4))\n",
        "        tau = [np.sqrt(np.std(np.subtract(ts[lag:], ts[:-lag]))) for lag in lags]\n",
        "        poly = np.polyfit(np.log(lags), np.log(tau), 1)\n",
        "        return poly[0]\n",
        "\n",
        "    # 2. Power spectral density slope\n",
        "    freqs = np.fft.fftfreq(len(data))\n",
        "    psd = np.abs(np.fft.fft(data))**2\n",
        "    # Fit slope in log-log space (ignoring DC component)\n",
        "    valid_idx = (freqs > 0) & (freqs < 0.4)\n",
        "    if np.sum(valid_idx) > 10:\n",
        "        slope = np.polyfit(np.log(freqs[valid_idx]), np.log(psd[valid_idx]), 1)[0]\n",
        "    else:\n",
        "        slope = 0\n",
        "\n",
        "    # 3. Variance scaling\n",
        "    scales = [2, 4, 8, 16, 32]\n",
        "    variances = []\n",
        "    for scale in scales:\n",
        "        if len(data) > scale:\n",
        "            coarse_grained = data[:len(data)//scale*scale].reshape(-1, scale).mean(axis=1)\n",
        "            variances.append(np.var(coarse_grained, unbiased=True)) # Use unbiased=True for sample variance\n",
        "\n",
        "    if len(variances) > 2:\n",
        "        var_slope = np.polyfit(np.log(scales[:len(variances)]), np.log(variances), 1)[0]\n",
        "    else:\n",
        "        var_slope = 0\n",
        "\n",
        "    return {\n",
        "        'hurst_exponent': hurst_exponent(data.numpy()),\n",
        "        'psd_slope': slope,\n",
        "        'variance_slope': var_slope\n",
        "    }\n",
        "\n",
        "# Calculate metrics for different alpha values\n",
        "metrics_text = \"CRITICALITY METRICS:\\n\\n\"\n",
        "for alpha in alphas:\n",
        "    test_data = generate_powerlaw_timeseries(length=500, alpha=alpha, scale=20)\n",
        "    metrics = calculate_criticality_metrics(test_data)\n",
        "\n",
        "    metrics_text += f\"α = {alpha}:\\n\"\n",
        "    metrics_text += f\"  Hurst: {metrics['hurst_exponent']:.3f}\\n\"\n",
        "    metrics_text += f\"  PSD slope: {metrics['psd_slope']:.3f}\\n\"\n",
        "    metrics_text += f\"  Var slope: {metrics['variance_slope']:.3f}\\n\\n\"\n",
        "\n",
        "metrics_text += \"CRITICAL INDICATORS:\\n\"\n",
        "metrics_text += \"• Hurst ≈ 1.0 (long memory)\\n\"\n",
        "metrics_text += \"• PSD slope ≈ -2.0 (1/f²)\\n\"\n",
        "metrics_text += \"• Variance slope < 0\\n\"\n",
        "metrics_text += \"\\nLower α → More critical\"\n",
        "\n",
        "axes[1, 1].text(0.05, 0.95, metrics_text, transform=axes[1, 1].transAxes,\n",
        "               fontsize=9, verticalalignment='top', fontfamily='monospace',\n",
        "               bbox=dict(boxstyle='round', facecolor='lightblue', alpha=0.8))\n",
        "axes[1, 1].set_xlim(0, 1)\n",
        "axes[1, 1].set_ylim(0, 1)\n",
        "axes[1, 1].set_xticks([])\n",
        "axes[1, 1].set_yticks([])\n",
        "axes[1, 1].set_title(\"Criticality Analysis\")\n",
        "\n",
        "plt.tight_layout()\n",
        "plt.show()\n",
        "\n",
        "print(f\"\\nSUMMARY:\")\n",
        "print(f\"✓ Generated power-law time series with α = {alphas}\")\n",
        "print(f\"✓ Applied delta coding with threshold = 4\")\n",
        "print(f\"✓ Data exhibits critical dynamics properties\")\n",
        "print(f\"✓ Power-law distribution verified\")\n",
        "print(f\"\\nKey insight: Lower α values (≈1.5-2.0) show more critical behavior\")\n",
        "print(f\"suitable for neuromorphic systems operating at edge of chaos.\")"
      ],
      "metadata": {
        "colab": {
          "base_uri": "https://localhost:8080/",
          "height": 1000
        },
        "id": "cglyaOD4xLci",
        "outputId": "0b999a8c-42cb-4460-fe2e-3603aa4221af"
      },
      "execution_count": 29,
      "outputs": [
        {
          "output_type": "stream",
          "name": "stdout",
          "text": [
            "Generating power-law distributed time-series data for criticality...\n",
            "\n",
            "Alpha = 1.5:\n",
            "Data range: [-11.59, 18.63]\n",
            "Mean: 4.22, Std: 6.67\n",
            "ON spikes: 15, OFF spikes: 13\n",
            "Total spikes: 28\n",
            "Spike rate: 56.0%\n",
            "\n",
            "Alpha = 2.0:\n",
            "Data range: [-6.55, 19.05]\n",
            "Mean: 2.99, Std: 5.57\n",
            "ON spikes: 15, OFF spikes: 13\n",
            "Total spikes: 28\n",
            "Spike rate: 56.0%\n",
            "\n",
            "Alpha = 2.5:\n",
            "Data range: [-4.26, 18.55]\n",
            "Mean: 0.96, Std: 3.12\n",
            "ON spikes: 3, OFF spikes: 5\n",
            "Total spikes: 8\n",
            "Spike rate: 16.0%\n"
          ]
        },
        {
          "output_type": "display_data",
          "data": {
            "text/plain": [
              "<Figure size 1500x1000 with 9 Axes>"
            ],
            "image/png": "[encoded data removed]"
          },
          "metadata": {}
        },
        {
          "output_type": "stream",
          "name": "stdout",
          "text": [
            "\n",
            "==================================================\n",
            "NEURAL AVALANCHE DATA (Critical Brain Dynamics)\n",
            "==================================================\n"
          ]
        },
        {
          "output_type": "stream",
          "name": "stderr",
          "text": [
            "/tmp/ipython-input-29-3681687539.py:135: DeprecationWarning: __array_wrap__ must accept context and return_scalar arguments (positionally) in the future. (Deprecated NumPy 2.0)\n",
            "  all_amplitudes.extend(np.abs(data[data != 0]))  # Non-zero values\n"
          ]
        },
        {
          "output_type": "error",
          "ename": "TypeError",
          "evalue": "var() got an unexpected keyword argument 'unbiased'",
          "traceback": [
            "\u001b[0;31m---------------------------------------------------------------------------\u001b[0m",
            "\u001b[0;31mTypeError\u001b[0m                                 Traceback (most recent call last)",
            "\u001b[0;32m/tmp/ipython-input-29-3681687539.py\u001b[0m in \u001b[0;36m<cell line: 0>\u001b[0;34m()\u001b[0m\n\u001b[1;32m    197\u001b[0m \u001b[0;32mfor\u001b[0m \u001b[0malpha\u001b[0m \u001b[0;32min\u001b[0m \u001b[0malphas\u001b[0m\u001b[0;34m:\u001b[0m\u001b[0;34m\u001b[0m\u001b[0;34m\u001b[0m\u001b[0m\n\u001b[1;32m    198\u001b[0m     \u001b[0mtest_data\u001b[0m \u001b[0;34m=\u001b[0m \u001b[0mgenerate_powerlaw_timeseries\u001b[0m\u001b[0;34m(\u001b[0m\u001b[0mlength\u001b[0m\u001b[0;34m=\u001b[0m\u001b[0;36m500\u001b[0m\u001b[0;34m,\u001b[0m \u001b[0malpha\u001b[0m\u001b[0;34m=\u001b[0m\u001b[0malpha\u001b[0m\u001b[0;34m,\u001b[0m \u001b[0mscale\u001b[0m\u001b[0;34m=\u001b[0m\u001b[0;36m20\u001b[0m\u001b[0;34m)\u001b[0m\u001b[0;34m\u001b[0m\u001b[0;34m\u001b[0m\u001b[0m\n\u001b[0;32m--> 199\u001b[0;31m     \u001b[0mmetrics\u001b[0m \u001b[0;34m=\u001b[0m \u001b[0mcalculate_criticality_metrics\u001b[0m\u001b[0;34m(\u001b[0m\u001b[0mtest_data\u001b[0m\u001b[0;34m)\u001b[0m\u001b[0;34m\u001b[0m\u001b[0;34m\u001b[0m\u001b[0m\n\u001b[0m\u001b[1;32m    200\u001b[0m \u001b[0;34m\u001b[0m\u001b[0m\n\u001b[1;32m    201\u001b[0m     \u001b[0mmetrics_text\u001b[0m \u001b[0;34m+=\u001b[0m \u001b[0;34mf\"α = {alpha}:\\n\"\u001b[0m\u001b[0;34m\u001b[0m\u001b[0;34m\u001b[0m\u001b[0m\n",
            "\u001b[0;32m/tmp/ipython-input-29-3681687539.py\u001b[0m in \u001b[0;36mcalculate_criticality_metrics\u001b[0;34m(data)\u001b[0m\n\u001b[1;32m    180\u001b[0m         \u001b[0;32mif\u001b[0m \u001b[0mlen\u001b[0m\u001b[0;34m(\u001b[0m\u001b[0mdata\u001b[0m\u001b[0;34m)\u001b[0m \u001b[0;34m>\u001b[0m \u001b[0mscale\u001b[0m\u001b[0;34m:\u001b[0m\u001b[0;34m\u001b[0m\u001b[0;34m\u001b[0m\u001b[0m\n\u001b[1;32m    181\u001b[0m             \u001b[0mcoarse_grained\u001b[0m \u001b[0;34m=\u001b[0m \u001b[0mdata\u001b[0m\u001b[0;34m[\u001b[0m\u001b[0;34m:\u001b[0m\u001b[0mlen\u001b[0m\u001b[0;34m(\u001b[0m\u001b[0mdata\u001b[0m\u001b[0;34m)\u001b[0m\u001b[0;34m//\u001b[0m\u001b[0mscale\u001b[0m\u001b[0;34m*\u001b[0m\u001b[0mscale\u001b[0m\u001b[0;34m]\u001b[0m\u001b[0;34m.\u001b[0m\u001b[0mreshape\u001b[0m\u001b[0;34m(\u001b[0m\u001b[0;34m-\u001b[0m\u001b[0;36m1\u001b[0m\u001b[0;34m,\u001b[0m \u001b[0mscale\u001b[0m\u001b[0;34m)\u001b[0m\u001b[0;34m.\u001b[0m\u001b[0mmean\u001b[0m\u001b[0;34m(\u001b[0m\u001b[0maxis\u001b[0m\u001b[0;34m=\u001b[0m\u001b[0;36m1\u001b[0m\u001b[0;34m)\u001b[0m\u001b[0;34m\u001b[0m\u001b[0;34m\u001b[0m\u001b[0m\n\u001b[0;32m--> 182\u001b[0;31m             \u001b[0mvariances\u001b[0m\u001b[0;34m.\u001b[0m\u001b[0mappend\u001b[0m\u001b[0;34m(\u001b[0m\u001b[0mnp\u001b[0m\u001b[0;34m.\u001b[0m\u001b[0mvar\u001b[0m\u001b[0;34m(\u001b[0m\u001b[0mcoarse_grained\u001b[0m\u001b[0;34m,\u001b[0m \u001b[0munbiased\u001b[0m\u001b[0;34m=\u001b[0m\u001b[0;32mTrue\u001b[0m\u001b[0;34m)\u001b[0m\u001b[0;34m)\u001b[0m \u001b[0;31m# Use unbiased=True for sample variance\u001b[0m\u001b[0;34m\u001b[0m\u001b[0;34m\u001b[0m\u001b[0m\n\u001b[0m\u001b[1;32m    183\u001b[0m \u001b[0;34m\u001b[0m\u001b[0m\n\u001b[1;32m    184\u001b[0m     \u001b[0;32mif\u001b[0m \u001b[0mlen\u001b[0m\u001b[0;34m(\u001b[0m\u001b[0mvariances\u001b[0m\u001b[0;34m)\u001b[0m \u001b[0;34m>\u001b[0m \u001b[0;36m2\u001b[0m\u001b[0;34m:\u001b[0m\u001b[0;34m\u001b[0m\u001b[0;34m\u001b[0m\u001b[0m\n",
            "\u001b[0;31mTypeError\u001b[0m: var() got an unexpected keyword argument 'unbiased'"
          ]
        },
        {
          "output_type": "display_data",
          "data": {
            "text/plain": [
              "<Figure size 1200x800 with 4 Axes>"
            ],
            "image/png": "[encoded data removed]"
          },
          "metadata": {}
        }
      ]
    }
  ],
  "metadata": {
    "accelerator": "GPU",
    "colab": {
      "collapsed_sections": [
        "9QXsrr6Mp5e_",
        "1EWDw3bip8Ie",
        "vFM8UV9CreIX",
        "xXkTAJ9ws1Y6",
        "OgkWg605tE1y",
        "OBt0WDzyujnk",
        "xC96eesMqYo-",
        "mszPTrYOluym",
        "VTHK-wAWV57B"
      ],
      "name": "snntorch_tutorial_1.ipynb",
      "provenance": []
    },
    "interpreter": {
      "hash": "579503e60735c0b0ad61cf404d04af89041cf694c55fa4cc17d05f5d9b483dbc"
    },
    "kernelspec": {
      "display_name": "Python 3 (ipykernel)",
      "language": "python",
      "name": "python3"
    },
    "language_info": {
      "codemirror_mode": {
        "name": "ipython",
        "version": 3
      },
      "file_extension": ".py",
      "mimetype": "text/x-python",
      "name": "python",
      "nbconvert_exporter": "python",
      "pygments_lexer": "ipython3",
      "version": "3.9.5"
    }
  },
  "nbformat": 4,
  "nbformat_minor": 0
}